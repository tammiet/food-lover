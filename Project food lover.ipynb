{
 "cells": [
  {
   "cell_type": "markdown",
   "metadata": {},
   "source": [
    "### Insert useful libraries "
   ]
  },
  {
   "cell_type": "code",
   "execution_count": 112,
   "metadata": {},
   "outputs": [],
   "source": [
    "import pandas as pd\n",
    "import numpy as np\n",
    "%matplotlib inline\n",
    "import matplotlib.pyplot as plt\n",
    "plt.style.use('seaborn-whitegrid')\n",
    "import seaborn as sns\n",
    "import datetime as dt"
   ]
  },
  {
   "cell_type": "markdown",
   "metadata": {},
   "source": [
    "## Explore data\n",
    "\n",
    "**What data we have to use:**\n",
    "\n",
    "- interactions_train.csv: **698,901** rows dataset, 97% of the whole data set. Columns:\n",
    "  - 'user_id', \n",
    "  - 'recipe_id' \n",
    "  - 'date' \n",
    "  - 'rating' \n",
    "  - 'u'\n",
    "  - 'i'\n",
    "- interactions_test.csv: **12,455** rows dataset, 1.7% of the whole data set. Columns:\n",
    "  - 'user_id'\n",
    "  - 'recipe_id'\n",
    "  - 'date' \n",
    "  - 'rating'\n",
    "  - 'u'\n",
    "  - 'i' \n",
    "- interactions_validate.csv: **7,023** rows dataset, 0.9% of the whole data set. Columns:\n",
    "  - 'user_id'\n",
    "  - 'recipe_id'\n",
    "  - 'date'\n",
    "  - 'rating'\n",
    "  - 'u'\n",
    "  - 'i'\n",
    "- RAW_interations.csv: **1,132,367** rows dataset. Raw data of users rating and order info. Columns: \n",
    "  - 'user_id'\n",
    "  - 'recipe_id'\n",
    "  - 'date'\n",
    "  - 'rating'\n",
    "  - 'reviews' \n",
    "- PP_users.csv: **25076** rows dataset. Token data of each **UNIQUE** user's orders and rating information. Columns:\n",
    "  - 'u'\n",
    "  - 'techniques'\n",
    "  - 'items'\n",
    "  - 'n_items'\n",
    "  - 'ratings'\n",
    "  - 'n_ratings' \n",
    "- RAW_recipes.csv: **231,637** rows dataset. This is a raw data about the recipes. Columns: \n",
    "  - 'name'\n",
    "  - 'id'\n",
    "  - 'minutes'\n",
    "  - 'contributor_id'\n",
    "  - 'submitted'\n",
    "  - 'tags'\n",
    "  - 'nutrition'\n",
    "  - 'n_steps'\n",
    "  - 'steps'\n",
    "  - 'description'\n",
    "  - 'ingredients'\n",
    "  - 'n_ingredients' \n",
    "- PP_recipes.csv: **178,265** rows dataset. Has more or less the same information as 'RAW_recipes\" data but in tokens. It has tokenized all the words into numbers. Columns:\n",
    "  - 'id'\n",
    "  - 'i'\n",
    "  - 'name_tokens'\n",
    "  - 'ingredient_tokens'\n",
    "  - 'steps_tokens'\n",
    "  - 'techniques'\n",
    "  - 'calorie_level'\n",
    "  - 'ingredient_ids' \n",
    "\n",
    "**Data explanation:**\n",
    "\n",
    "-**'u'**: the identifier of the users, like user_id, but in 'PP_user' dataset has very important use, because 'u' is the unique value for the users_id. \n",
    "\n",
    "-**'i'**: the identifier of recipe, like recipe_id, but specially use for tokenizing.\n",
    "\n",
    "-**items**: the recipes which users have oreder, but used 'i'\n"
   ]
  },
  {
   "cell_type": "code",
   "execution_count": 113,
   "metadata": {},
   "outputs": [
    {
     "data": {
      "text/html": [
       "<div>\n",
       "<style scoped>\n",
       "    .dataframe tbody tr th:only-of-type {\n",
       "        vertical-align: middle;\n",
       "    }\n",
       "\n",
       "    .dataframe tbody tr th {\n",
       "        vertical-align: top;\n",
       "    }\n",
       "\n",
       "    .dataframe thead th {\n",
       "        text-align: right;\n",
       "    }\n",
       "</style>\n",
       "<table border=\"1\" class=\"dataframe\">\n",
       "  <thead>\n",
       "    <tr style=\"text-align: right;\">\n",
       "      <th></th>\n",
       "      <th>user_id</th>\n",
       "      <th>recipe_id</th>\n",
       "      <th>date</th>\n",
       "      <th>rating</th>\n",
       "      <th>u</th>\n",
       "      <th>i</th>\n",
       "    </tr>\n",
       "  </thead>\n",
       "  <tbody>\n",
       "    <tr>\n",
       "      <th>0</th>\n",
       "      <td>8937</td>\n",
       "      <td>44551</td>\n",
       "      <td>2005-12-23</td>\n",
       "      <td>4.0</td>\n",
       "      <td>2</td>\n",
       "      <td>173538</td>\n",
       "    </tr>\n",
       "    <tr>\n",
       "      <th>1</th>\n",
       "      <td>56680</td>\n",
       "      <td>126118</td>\n",
       "      <td>2006-10-07</td>\n",
       "      <td>4.0</td>\n",
       "      <td>16</td>\n",
       "      <td>177847</td>\n",
       "    </tr>\n",
       "    <tr>\n",
       "      <th>2</th>\n",
       "      <td>349752</td>\n",
       "      <td>219596</td>\n",
       "      <td>2008-04-12</td>\n",
       "      <td>0.0</td>\n",
       "      <td>26</td>\n",
       "      <td>89896</td>\n",
       "    </tr>\n",
       "    <tr>\n",
       "      <th>3</th>\n",
       "      <td>628951</td>\n",
       "      <td>82783</td>\n",
       "      <td>2007-11-13</td>\n",
       "      <td>2.0</td>\n",
       "      <td>45</td>\n",
       "      <td>172637</td>\n",
       "    </tr>\n",
       "    <tr>\n",
       "      <th>4</th>\n",
       "      <td>92816</td>\n",
       "      <td>435013</td>\n",
       "      <td>2013-07-31</td>\n",
       "      <td>3.0</td>\n",
       "      <td>52</td>\n",
       "      <td>177935</td>\n",
       "    </tr>\n",
       "  </tbody>\n",
       "</table>\n",
       "</div>"
      ],
      "text/plain": [
       "   user_id  recipe_id        date  rating   u       i\n",
       "0     8937      44551  2005-12-23     4.0   2  173538\n",
       "1    56680     126118  2006-10-07     4.0  16  177847\n",
       "2   349752     219596  2008-04-12     0.0  26   89896\n",
       "3   628951      82783  2007-11-13     2.0  45  172637\n",
       "4    92816     435013  2013-07-31     3.0  52  177935"
      ]
     },
     "execution_count": 113,
     "metadata": {},
     "output_type": "execute_result"
    }
   ],
   "source": [
    "test = pd.read_csv('interactions_test.csv')\n",
    "test.head()"
   ]
  },
  {
   "cell_type": "code",
   "execution_count": 114,
   "metadata": {},
   "outputs": [
    {
     "data": {
      "text/plain": [
       "(12455, 6)"
      ]
     },
     "execution_count": 114,
     "metadata": {},
     "output_type": "execute_result"
    }
   ],
   "source": [
    "test.shape"
   ]
  },
  {
   "cell_type": "code",
   "execution_count": 115,
   "metadata": {},
   "outputs": [
    {
     "name": "stdout",
     "output_type": "stream",
     "text": [
      "<class 'pandas.core.frame.DataFrame'>\n",
      "RangeIndex: 12455 entries, 0 to 12454\n",
      "Data columns (total 6 columns):\n",
      "user_id      12455 non-null int64\n",
      "recipe_id    12455 non-null int64\n",
      "date         12455 non-null object\n",
      "rating       12455 non-null float64\n",
      "u            12455 non-null int64\n",
      "i            12455 non-null int64\n",
      "dtypes: float64(1), int64(4), object(1)\n",
      "memory usage: 583.9+ KB\n"
     ]
    }
   ],
   "source": [
    "test.info()"
   ]
  },
  {
   "cell_type": "code",
   "execution_count": 116,
   "metadata": {},
   "outputs": [
    {
     "data": {
      "text/plain": [
       "(12455, 6)"
      ]
     },
     "execution_count": 116,
     "metadata": {},
     "output_type": "execute_result"
    }
   ],
   "source": [
    "test.shape"
   ]
  },
  {
   "cell_type": "code",
   "execution_count": 117,
   "metadata": {},
   "outputs": [
    {
     "data": {
      "text/plain": [
       "(698901, 6)"
      ]
     },
     "execution_count": 117,
     "metadata": {},
     "output_type": "execute_result"
    }
   ],
   "source": [
    "train = pd.read_csv('interactions_train.csv')\n",
    "train.shape"
   ]
  },
  {
   "cell_type": "code",
   "execution_count": 118,
   "metadata": {},
   "outputs": [
    {
     "data": {
      "text/plain": [
       "(7023, 6)"
      ]
     },
     "execution_count": 118,
     "metadata": {},
     "output_type": "execute_result"
    }
   ],
   "source": [
    "validate = pd.read_csv('interactions_validation.csv')\n",
    "validate.shape"
   ]
  },
  {
   "cell_type": "code",
   "execution_count": 119,
   "metadata": {},
   "outputs": [
    {
     "data": {
      "text/html": [
       "<div>\n",
       "<style scoped>\n",
       "    .dataframe tbody tr th:only-of-type {\n",
       "        vertical-align: middle;\n",
       "    }\n",
       "\n",
       "    .dataframe tbody tr th {\n",
       "        vertical-align: top;\n",
       "    }\n",
       "\n",
       "    .dataframe thead th {\n",
       "        text-align: right;\n",
       "    }\n",
       "</style>\n",
       "<table border=\"1\" class=\"dataframe\">\n",
       "  <thead>\n",
       "    <tr style=\"text-align: right;\">\n",
       "      <th></th>\n",
       "      <th>user_id</th>\n",
       "      <th>recipe_id</th>\n",
       "      <th>date</th>\n",
       "      <th>rating</th>\n",
       "      <th>review</th>\n",
       "    </tr>\n",
       "  </thead>\n",
       "  <tbody>\n",
       "    <tr>\n",
       "      <th>0</th>\n",
       "      <td>38094</td>\n",
       "      <td>40893</td>\n",
       "      <td>2003-02-17</td>\n",
       "      <td>4</td>\n",
       "      <td>Great with a salad. Cooked on top of stove for...</td>\n",
       "    </tr>\n",
       "    <tr>\n",
       "      <th>1</th>\n",
       "      <td>1293707</td>\n",
       "      <td>40893</td>\n",
       "      <td>2011-12-21</td>\n",
       "      <td>5</td>\n",
       "      <td>So simple, so delicious! Great for chilly fall...</td>\n",
       "    </tr>\n",
       "    <tr>\n",
       "      <th>2</th>\n",
       "      <td>8937</td>\n",
       "      <td>44394</td>\n",
       "      <td>2002-12-01</td>\n",
       "      <td>4</td>\n",
       "      <td>This worked very well and is EASY.  I used not...</td>\n",
       "    </tr>\n",
       "    <tr>\n",
       "      <th>3</th>\n",
       "      <td>126440</td>\n",
       "      <td>85009</td>\n",
       "      <td>2010-02-27</td>\n",
       "      <td>5</td>\n",
       "      <td>I made the Mexican topping and took it to bunk...</td>\n",
       "    </tr>\n",
       "    <tr>\n",
       "      <th>4</th>\n",
       "      <td>57222</td>\n",
       "      <td>85009</td>\n",
       "      <td>2011-10-01</td>\n",
       "      <td>5</td>\n",
       "      <td>Made the cheddar bacon topping, adding a sprin...</td>\n",
       "    </tr>\n",
       "  </tbody>\n",
       "</table>\n",
       "</div>"
      ],
      "text/plain": [
       "   user_id  recipe_id        date  rating  \\\n",
       "0    38094      40893  2003-02-17       4   \n",
       "1  1293707      40893  2011-12-21       5   \n",
       "2     8937      44394  2002-12-01       4   \n",
       "3   126440      85009  2010-02-27       5   \n",
       "4    57222      85009  2011-10-01       5   \n",
       "\n",
       "                                              review  \n",
       "0  Great with a salad. Cooked on top of stove for...  \n",
       "1  So simple, so delicious! Great for chilly fall...  \n",
       "2  This worked very well and is EASY.  I used not...  \n",
       "3  I made the Mexican topping and took it to bunk...  \n",
       "4  Made the cheddar bacon topping, adding a sprin...  "
      ]
     },
     "execution_count": 119,
     "metadata": {},
     "output_type": "execute_result"
    }
   ],
   "source": [
    "df = pd.read_csv('RAW_interactions.csv')\n",
    "df.head()"
   ]
  },
  {
   "cell_type": "code",
   "execution_count": 120,
   "metadata": {},
   "outputs": [
    {
     "data": {
      "text/plain": [
       "(1132367, 5)"
      ]
     },
     "execution_count": 120,
     "metadata": {},
     "output_type": "execute_result"
    }
   ],
   "source": [
    "df.shape"
   ]
  },
  {
   "cell_type": "code",
   "execution_count": 121,
   "metadata": {},
   "outputs": [
    {
     "name": "stdout",
     "output_type": "stream",
     "text": [
      "<class 'pandas.core.frame.DataFrame'>\n",
      "RangeIndex: 1132367 entries, 0 to 1132366\n",
      "Data columns (total 5 columns):\n",
      "user_id      1132367 non-null int64\n",
      "recipe_id    1132367 non-null int64\n",
      "date         1132367 non-null object\n",
      "rating       1132367 non-null int64\n",
      "review       1132198 non-null object\n",
      "dtypes: int64(3), object(2)\n",
      "memory usage: 43.2+ MB\n"
     ]
    }
   ],
   "source": [
    "df.info()"
   ]
  },
  {
   "cell_type": "code",
   "execution_count": 122,
   "metadata": {},
   "outputs": [
    {
     "data": {
      "text/html": [
       "<div>\n",
       "<style scoped>\n",
       "    .dataframe tbody tr th:only-of-type {\n",
       "        vertical-align: middle;\n",
       "    }\n",
       "\n",
       "    .dataframe tbody tr th {\n",
       "        vertical-align: top;\n",
       "    }\n",
       "\n",
       "    .dataframe thead th {\n",
       "        text-align: right;\n",
       "    }\n",
       "</style>\n",
       "<table border=\"1\" class=\"dataframe\">\n",
       "  <thead>\n",
       "    <tr style=\"text-align: right;\">\n",
       "      <th></th>\n",
       "      <th>u</th>\n",
       "      <th>techniques</th>\n",
       "      <th>items</th>\n",
       "      <th>n_items</th>\n",
       "      <th>ratings</th>\n",
       "      <th>n_ratings</th>\n",
       "    </tr>\n",
       "  </thead>\n",
       "  <tbody>\n",
       "    <tr>\n",
       "      <th>0</th>\n",
       "      <td>0</td>\n",
       "      <td>[8, 0, 0, 5, 6, 0, 0, 1, 0, 9, 1, 0, 0, 0, 1, ...</td>\n",
       "      <td>[1118, 27680, 32541, 137353, 16428, 28815, 658...</td>\n",
       "      <td>31</td>\n",
       "      <td>[5.0, 5.0, 5.0, 5.0, 5.0, 5.0, 5.0, 4.0, 4.0, ...</td>\n",
       "      <td>31</td>\n",
       "    </tr>\n",
       "    <tr>\n",
       "      <th>1</th>\n",
       "      <td>1</td>\n",
       "      <td>[11, 0, 0, 2, 12, 0, 0, 0, 0, 14, 5, 0, 0, 0, ...</td>\n",
       "      <td>[122140, 77036, 156817, 76957, 68818, 155600, ...</td>\n",
       "      <td>39</td>\n",
       "      <td>[5.0, 5.0, 5.0, 5.0, 5.0, 5.0, 5.0, 5.0, 5.0, ...</td>\n",
       "      <td>39</td>\n",
       "    </tr>\n",
       "  </tbody>\n",
       "</table>\n",
       "</div>"
      ],
      "text/plain": [
       "   u                                         techniques  \\\n",
       "0  0  [8, 0, 0, 5, 6, 0, 0, 1, 0, 9, 1, 0, 0, 0, 1, ...   \n",
       "1  1  [11, 0, 0, 2, 12, 0, 0, 0, 0, 14, 5, 0, 0, 0, ...   \n",
       "\n",
       "                                               items  n_items  \\\n",
       "0  [1118, 27680, 32541, 137353, 16428, 28815, 658...       31   \n",
       "1  [122140, 77036, 156817, 76957, 68818, 155600, ...       39   \n",
       "\n",
       "                                             ratings  n_ratings  \n",
       "0  [5.0, 5.0, 5.0, 5.0, 5.0, 5.0, 5.0, 4.0, 4.0, ...         31  \n",
       "1  [5.0, 5.0, 5.0, 5.0, 5.0, 5.0, 5.0, 5.0, 5.0, ...         39  "
      ]
     },
     "execution_count": 122,
     "metadata": {},
     "output_type": "execute_result"
    }
   ],
   "source": [
    "df1 = pd.read_csv('PP_users.csv')\n",
    "df1.head(2)"
   ]
  },
  {
   "cell_type": "code",
   "execution_count": 123,
   "metadata": {},
   "outputs": [
    {
     "data": {
      "text/plain": [
       "(25076, 6)"
      ]
     },
     "execution_count": 123,
     "metadata": {},
     "output_type": "execute_result"
    }
   ],
   "source": [
    "df1.shape"
   ]
  },
  {
   "cell_type": "code",
   "execution_count": 124,
   "metadata": {},
   "outputs": [
    {
     "data": {
      "text/html": [
       "<div>\n",
       "<style scoped>\n",
       "    .dataframe tbody tr th:only-of-type {\n",
       "        vertical-align: middle;\n",
       "    }\n",
       "\n",
       "    .dataframe tbody tr th {\n",
       "        vertical-align: top;\n",
       "    }\n",
       "\n",
       "    .dataframe thead th {\n",
       "        text-align: right;\n",
       "    }\n",
       "</style>\n",
       "<table border=\"1\" class=\"dataframe\">\n",
       "  <thead>\n",
       "    <tr style=\"text-align: right;\">\n",
       "      <th></th>\n",
       "      <th>u</th>\n",
       "      <th>n_items</th>\n",
       "      <th>n_ratings</th>\n",
       "    </tr>\n",
       "  </thead>\n",
       "  <tbody>\n",
       "    <tr>\n",
       "      <th>count</th>\n",
       "      <td>25076.000000</td>\n",
       "      <td>25076.000000</td>\n",
       "      <td>25076.000000</td>\n",
       "    </tr>\n",
       "    <tr>\n",
       "      <th>mean</th>\n",
       "      <td>12537.500000</td>\n",
       "      <td>27.871311</td>\n",
       "      <td>27.871311</td>\n",
       "    </tr>\n",
       "    <tr>\n",
       "      <th>std</th>\n",
       "      <td>7238.962011</td>\n",
       "      <td>122.729039</td>\n",
       "      <td>122.729039</td>\n",
       "    </tr>\n",
       "    <tr>\n",
       "      <th>min</th>\n",
       "      <td>0.000000</td>\n",
       "      <td>2.000000</td>\n",
       "      <td>2.000000</td>\n",
       "    </tr>\n",
       "    <tr>\n",
       "      <th>25%</th>\n",
       "      <td>6268.750000</td>\n",
       "      <td>3.000000</td>\n",
       "      <td>3.000000</td>\n",
       "    </tr>\n",
       "    <tr>\n",
       "      <th>50%</th>\n",
       "      <td>12537.500000</td>\n",
       "      <td>6.000000</td>\n",
       "      <td>6.000000</td>\n",
       "    </tr>\n",
       "    <tr>\n",
       "      <th>75%</th>\n",
       "      <td>18806.250000</td>\n",
       "      <td>16.000000</td>\n",
       "      <td>16.000000</td>\n",
       "    </tr>\n",
       "    <tr>\n",
       "      <th>max</th>\n",
       "      <td>25075.000000</td>\n",
       "      <td>6437.000000</td>\n",
       "      <td>6437.000000</td>\n",
       "    </tr>\n",
       "  </tbody>\n",
       "</table>\n",
       "</div>"
      ],
      "text/plain": [
       "                  u       n_items     n_ratings\n",
       "count  25076.000000  25076.000000  25076.000000\n",
       "mean   12537.500000     27.871311     27.871311\n",
       "std     7238.962011    122.729039    122.729039\n",
       "min        0.000000      2.000000      2.000000\n",
       "25%     6268.750000      3.000000      3.000000\n",
       "50%    12537.500000      6.000000      6.000000\n",
       "75%    18806.250000     16.000000     16.000000\n",
       "max    25075.000000   6437.000000   6437.000000"
      ]
     },
     "execution_count": 124,
     "metadata": {},
     "output_type": "execute_result"
    }
   ],
   "source": [
    "df1.describe()"
   ]
  },
  {
   "cell_type": "code",
   "execution_count": 125,
   "metadata": {},
   "outputs": [
    {
     "data": {
      "text/plain": [
       "False    25076\n",
       "Name: u, dtype: int64"
      ]
     },
     "execution_count": 125,
     "metadata": {},
     "output_type": "execute_result"
    }
   ],
   "source": [
    "df1['u'].duplicated().value_counts()"
   ]
  },
  {
   "cell_type": "code",
   "execution_count": 126,
   "metadata": {},
   "outputs": [
    {
     "data": {
      "text/html": [
       "<div>\n",
       "<style scoped>\n",
       "    .dataframe tbody tr th:only-of-type {\n",
       "        vertical-align: middle;\n",
       "    }\n",
       "\n",
       "    .dataframe tbody tr th {\n",
       "        vertical-align: top;\n",
       "    }\n",
       "\n",
       "    .dataframe thead th {\n",
       "        text-align: right;\n",
       "    }\n",
       "</style>\n",
       "<table border=\"1\" class=\"dataframe\">\n",
       "  <thead>\n",
       "    <tr style=\"text-align: right;\">\n",
       "      <th></th>\n",
       "      <th>name</th>\n",
       "      <th>id</th>\n",
       "      <th>minutes</th>\n",
       "      <th>contributor_id</th>\n",
       "      <th>submitted</th>\n",
       "      <th>tags</th>\n",
       "      <th>nutrition</th>\n",
       "      <th>n_steps</th>\n",
       "      <th>steps</th>\n",
       "      <th>description</th>\n",
       "      <th>ingredients</th>\n",
       "      <th>n_ingredients</th>\n",
       "    </tr>\n",
       "  </thead>\n",
       "  <tbody>\n",
       "    <tr>\n",
       "      <th>0</th>\n",
       "      <td>arriba   baked winter squash mexican style</td>\n",
       "      <td>137739</td>\n",
       "      <td>55</td>\n",
       "      <td>47892</td>\n",
       "      <td>2005-09-16</td>\n",
       "      <td>['60-minutes-or-less', 'time-to-make', 'course...</td>\n",
       "      <td>[51.5, 0.0, 13.0, 0.0, 2.0, 0.0, 4.0]</td>\n",
       "      <td>11</td>\n",
       "      <td>['make a choice and proceed with recipe', 'dep...</td>\n",
       "      <td>autumn is my favorite time of year to cook! th...</td>\n",
       "      <td>['winter squash', 'mexican seasoning', 'mixed ...</td>\n",
       "      <td>7</td>\n",
       "    </tr>\n",
       "    <tr>\n",
       "      <th>1</th>\n",
       "      <td>a bit different  breakfast pizza</td>\n",
       "      <td>31490</td>\n",
       "      <td>30</td>\n",
       "      <td>26278</td>\n",
       "      <td>2002-06-17</td>\n",
       "      <td>['30-minutes-or-less', 'time-to-make', 'course...</td>\n",
       "      <td>[173.4, 18.0, 0.0, 17.0, 22.0, 35.0, 1.0]</td>\n",
       "      <td>9</td>\n",
       "      <td>['preheat oven to 425 degrees f', 'press dough...</td>\n",
       "      <td>this recipe calls for the crust to be prebaked...</td>\n",
       "      <td>['prepared pizza crust', 'sausage patty', 'egg...</td>\n",
       "      <td>6</td>\n",
       "    </tr>\n",
       "  </tbody>\n",
       "</table>\n",
       "</div>"
      ],
      "text/plain": [
       "                                         name      id  minutes  \\\n",
       "0  arriba   baked winter squash mexican style  137739       55   \n",
       "1            a bit different  breakfast pizza   31490       30   \n",
       "\n",
       "   contributor_id   submitted  \\\n",
       "0           47892  2005-09-16   \n",
       "1           26278  2002-06-17   \n",
       "\n",
       "                                                tags  \\\n",
       "0  ['60-minutes-or-less', 'time-to-make', 'course...   \n",
       "1  ['30-minutes-or-less', 'time-to-make', 'course...   \n",
       "\n",
       "                                   nutrition  n_steps  \\\n",
       "0      [51.5, 0.0, 13.0, 0.0, 2.0, 0.0, 4.0]       11   \n",
       "1  [173.4, 18.0, 0.0, 17.0, 22.0, 35.0, 1.0]        9   \n",
       "\n",
       "                                               steps  \\\n",
       "0  ['make a choice and proceed with recipe', 'dep...   \n",
       "1  ['preheat oven to 425 degrees f', 'press dough...   \n",
       "\n",
       "                                         description  \\\n",
       "0  autumn is my favorite time of year to cook! th...   \n",
       "1  this recipe calls for the crust to be prebaked...   \n",
       "\n",
       "                                         ingredients  n_ingredients  \n",
       "0  ['winter squash', 'mexican seasoning', 'mixed ...              7  \n",
       "1  ['prepared pizza crust', 'sausage patty', 'egg...              6  "
      ]
     },
     "execution_count": 126,
     "metadata": {},
     "output_type": "execute_result"
    }
   ],
   "source": [
    "df2 = pd.read_csv('RAW_recipes.csv')\n",
    "df2.head(2)"
   ]
  },
  {
   "cell_type": "code",
   "execution_count": 127,
   "metadata": {},
   "outputs": [
    {
     "data": {
      "text/plain": [
       "(231637, 12)"
      ]
     },
     "execution_count": 127,
     "metadata": {},
     "output_type": "execute_result"
    }
   ],
   "source": [
    "df2.shape"
   ]
  },
  {
   "cell_type": "code",
   "execution_count": 128,
   "metadata": {},
   "outputs": [
    {
     "data": {
      "text/html": [
       "<div>\n",
       "<style scoped>\n",
       "    .dataframe tbody tr th:only-of-type {\n",
       "        vertical-align: middle;\n",
       "    }\n",
       "\n",
       "    .dataframe tbody tr th {\n",
       "        vertical-align: top;\n",
       "    }\n",
       "\n",
       "    .dataframe thead th {\n",
       "        text-align: right;\n",
       "    }\n",
       "</style>\n",
       "<table border=\"1\" class=\"dataframe\">\n",
       "  <thead>\n",
       "    <tr style=\"text-align: right;\">\n",
       "      <th></th>\n",
       "      <th>id</th>\n",
       "      <th>i</th>\n",
       "      <th>name_tokens</th>\n",
       "      <th>ingredient_tokens</th>\n",
       "      <th>steps_tokens</th>\n",
       "      <th>techniques</th>\n",
       "      <th>calorie_level</th>\n",
       "      <th>ingredient_ids</th>\n",
       "    </tr>\n",
       "  </thead>\n",
       "  <tbody>\n",
       "    <tr>\n",
       "      <th>0</th>\n",
       "      <td>424415</td>\n",
       "      <td>23</td>\n",
       "      <td>[40480, 37229, 2911, 1019, 249, 6878, 6878, 28...</td>\n",
       "      <td>[[2911, 1019, 249, 6878], [1353], [6953], [153...</td>\n",
       "      <td>[40480, 40482, 21662, 481, 6878, 500, 246, 161...</td>\n",
       "      <td>[0, 0, 0, 0, 0, 0, 0, 0, 0, 1, 0, 0, 0, 0, 0, ...</td>\n",
       "      <td>0</td>\n",
       "      <td>[389, 7655, 6270, 1527, 3406]</td>\n",
       "    </tr>\n",
       "    <tr>\n",
       "      <th>1</th>\n",
       "      <td>146223</td>\n",
       "      <td>96900</td>\n",
       "      <td>[40480, 18376, 7056, 246, 1531, 2032, 40481]</td>\n",
       "      <td>[[17918], [25916], [2507, 6444], [8467, 1179],...</td>\n",
       "      <td>[40480, 40482, 729, 2525, 10906, 485, 43, 8393...</td>\n",
       "      <td>[1, 0, 0, 0, 0, 0, 0, 0, 0, 1, 0, 0, 0, 0, 0, ...</td>\n",
       "      <td>0</td>\n",
       "      <td>[2683, 4969, 800, 5298, 840, 2499, 6632, 7022,...</td>\n",
       "    </tr>\n",
       "  </tbody>\n",
       "</table>\n",
       "</div>"
      ],
      "text/plain": [
       "       id      i                                        name_tokens  \\\n",
       "0  424415     23  [40480, 37229, 2911, 1019, 249, 6878, 6878, 28...   \n",
       "1  146223  96900       [40480, 18376, 7056, 246, 1531, 2032, 40481]   \n",
       "\n",
       "                                   ingredient_tokens  \\\n",
       "0  [[2911, 1019, 249, 6878], [1353], [6953], [153...   \n",
       "1  [[17918], [25916], [2507, 6444], [8467, 1179],...   \n",
       "\n",
       "                                        steps_tokens  \\\n",
       "0  [40480, 40482, 21662, 481, 6878, 500, 246, 161...   \n",
       "1  [40480, 40482, 729, 2525, 10906, 485, 43, 8393...   \n",
       "\n",
       "                                          techniques  calorie_level  \\\n",
       "0  [0, 0, 0, 0, 0, 0, 0, 0, 0, 1, 0, 0, 0, 0, 0, ...              0   \n",
       "1  [1, 0, 0, 0, 0, 0, 0, 0, 0, 1, 0, 0, 0, 0, 0, ...              0   \n",
       "\n",
       "                                      ingredient_ids  \n",
       "0                      [389, 7655, 6270, 1527, 3406]  \n",
       "1  [2683, 4969, 800, 5298, 840, 2499, 6632, 7022,...  "
      ]
     },
     "execution_count": 128,
     "metadata": {},
     "output_type": "execute_result"
    }
   ],
   "source": [
    "df3 = pd.read_csv('PP_recipes.csv')\n",
    "df3.head(2)"
   ]
  },
  {
   "cell_type": "code",
   "execution_count": 129,
   "metadata": {},
   "outputs": [
    {
     "data": {
      "text/plain": [
       "(178265, 8)"
      ]
     },
     "execution_count": 129,
     "metadata": {},
     "output_type": "execute_result"
    }
   ],
   "source": [
    "df3.shape"
   ]
  },
  {
   "cell_type": "code",
   "execution_count": 130,
   "metadata": {},
   "outputs": [
    {
     "data": {
      "text/plain": [
       "'[1, 0, 0, 0, 0, 0, 0, 0, 0, 1, 0, 0, 0, 0, 0, 0, 0, 0, 0, 0, 0, 0, 0, 0, 0, 0, 0, 0, 1, 0, 0, 0, 0, 1, 0, 0, 1, 0, 0, 0, 0, 0, 0, 0, 0, 0, 1, 0, 0, 0, 0, 0, 0, 0, 0, 0, 1, 1]'"
      ]
     },
     "execution_count": 130,
     "metadata": {},
     "output_type": "execute_result"
    }
   ],
   "source": [
    "# Have a simple check on whether the tokens correspond with the words, one example from the id 146223, the 2 row of the df1. \n",
    "df3['techniques'].iloc[1]\n",
    "# as the result, there are 12 tokens in ingredient_token column of id 146223"
   ]
  },
  {
   "cell_type": "code",
   "execution_count": 131,
   "metadata": {},
   "outputs": [
    {
     "name": "stdout",
     "output_type": "stream",
     "text": [
      "['flour', 'oats', 'brown sugar', 'pecans', 'butter', 'eggs', 'solid pack pumpkin', 'sweetened condensed milk', 'cinnamon', 'ginger', 'nutmeg', 'salt']\n"
     ]
    },
    {
     "data": {
      "text/plain": [
       "[None]"
      ]
     },
     "execution_count": 131,
     "metadata": {},
     "output_type": "execute_result"
    }
   ],
   "source": [
    "# Lets have a look at table df, see what ingredients are there, and how many are\n",
    "lis = df2[(df2['id'] == 146223)]['ingredients']\n",
    "[print(x) for x in lis] \n",
    "# there are also 12 ingredients, it corresponde with the tokens. If we look at the tokens, it is actually one token\n",
    "# corresponde with one single word"
   ]
  },
  {
   "cell_type": "markdown",
   "metadata": {},
   "source": [
    "## Clean and Tidy Data\n",
    "\n",
    "**Possible data problems:**\n",
    "\n",
    "- Missing data\n",
    "<br>\n",
    "- Unformatted data\n",
    "<br>\n",
    "- Data format incorrect\n",
    "<br>\n",
    "- Duplicated data\n",
    "<br>\n",
    "- Too many dataset can also lead misunderstanding"
   ]
  },
  {
   "cell_type": "markdown",
   "metadata": {},
   "source": [
    "### Merge data"
   ]
  },
  {
   "cell_type": "code",
   "execution_count": 132,
   "metadata": {},
   "outputs": [
    {
     "data": {
      "text/plain": [
       "(718379, 6)"
      ]
     },
     "execution_count": 132,
     "metadata": {},
     "output_type": "execute_result"
    }
   ],
   "source": [
    "# Join train, test and validate data together\n",
    "df_join = test.append(train)\n",
    "df_join = df_join.append(validate)\n",
    "df_join.shape"
   ]
  },
  {
   "cell_type": "code",
   "execution_count": 133,
   "metadata": {},
   "outputs": [
    {
     "data": {
      "text/html": [
       "<div>\n",
       "<style scoped>\n",
       "    .dataframe tbody tr th:only-of-type {\n",
       "        vertical-align: middle;\n",
       "    }\n",
       "\n",
       "    .dataframe tbody tr th {\n",
       "        vertical-align: top;\n",
       "    }\n",
       "\n",
       "    .dataframe thead th {\n",
       "        text-align: right;\n",
       "    }\n",
       "</style>\n",
       "<table border=\"1\" class=\"dataframe\">\n",
       "  <thead>\n",
       "    <tr style=\"text-align: right;\">\n",
       "      <th></th>\n",
       "      <th>user_id</th>\n",
       "      <th>recipe_id</th>\n",
       "      <th>date</th>\n",
       "      <th>rating</th>\n",
       "      <th>u</th>\n",
       "      <th>i</th>\n",
       "      <th>review</th>\n",
       "    </tr>\n",
       "  </thead>\n",
       "  <tbody>\n",
       "    <tr>\n",
       "      <th>0</th>\n",
       "      <td>8937</td>\n",
       "      <td>44551</td>\n",
       "      <td>2005-12-23</td>\n",
       "      <td>4.0</td>\n",
       "      <td>2.0</td>\n",
       "      <td>173538.0</td>\n",
       "      <td>I made this and took it to several holiday fun...</td>\n",
       "    </tr>\n",
       "    <tr>\n",
       "      <th>1</th>\n",
       "      <td>56680</td>\n",
       "      <td>126118</td>\n",
       "      <td>2006-10-07</td>\n",
       "      <td>4.0</td>\n",
       "      <td>16.0</td>\n",
       "      <td>177847.0</td>\n",
       "      <td>This was really great, directions are right on...</td>\n",
       "    </tr>\n",
       "  </tbody>\n",
       "</table>\n",
       "</div>"
      ],
      "text/plain": [
       "   user_id  recipe_id        date  rating     u         i  \\\n",
       "0     8937      44551  2005-12-23     4.0   2.0  173538.0   \n",
       "1    56680     126118  2006-10-07     4.0  16.0  177847.0   \n",
       "\n",
       "                                              review  \n",
       "0  I made this and took it to several holiday fun...  \n",
       "1  This was really great, directions are right on...  "
      ]
     },
     "execution_count": 133,
     "metadata": {},
     "output_type": "execute_result"
    }
   ],
   "source": [
    "# Join the df_join table together with RAW_interactions table\n",
    "df_review = df_join.merge(df, on = ['user_id', 'recipe_id', 'date','rating'], how = 'outer')\n",
    "df_review.head(2)"
   ]
  },
  {
   "cell_type": "code",
   "execution_count": 134,
   "metadata": {},
   "outputs": [
    {
     "data": {
      "text/plain": [
       "(1132367, 7)"
      ]
     },
     "execution_count": 134,
     "metadata": {},
     "output_type": "execute_result"
    }
   ],
   "source": [
    "df_review.shape"
   ]
  },
  {
   "cell_type": "code",
   "execution_count": 135,
   "metadata": {},
   "outputs": [
    {
     "data": {
      "text/html": [
       "<div>\n",
       "<style scoped>\n",
       "    .dataframe tbody tr th:only-of-type {\n",
       "        vertical-align: middle;\n",
       "    }\n",
       "\n",
       "    .dataframe tbody tr th {\n",
       "        vertical-align: top;\n",
       "    }\n",
       "\n",
       "    .dataframe thead th {\n",
       "        text-align: right;\n",
       "    }\n",
       "</style>\n",
       "<table border=\"1\" class=\"dataframe\">\n",
       "  <thead>\n",
       "    <tr style=\"text-align: right;\">\n",
       "      <th></th>\n",
       "      <th>user_id</th>\n",
       "      <th>recipe_id</th>\n",
       "      <th>date</th>\n",
       "      <th>rating</th>\n",
       "      <th>u</th>\n",
       "      <th>i</th>\n",
       "      <th>review</th>\n",
       "      <th>name</th>\n",
       "      <th>minutes</th>\n",
       "      <th>contributor_id</th>\n",
       "      <th>submitted</th>\n",
       "      <th>tags</th>\n",
       "      <th>nutrition</th>\n",
       "      <th>n_steps</th>\n",
       "      <th>steps</th>\n",
       "      <th>description</th>\n",
       "      <th>ingredients</th>\n",
       "      <th>n_ingredients</th>\n",
       "    </tr>\n",
       "  </thead>\n",
       "  <tbody>\n",
       "    <tr>\n",
       "      <th>0</th>\n",
       "      <td>8937</td>\n",
       "      <td>44551</td>\n",
       "      <td>2005-12-23</td>\n",
       "      <td>4.0</td>\n",
       "      <td>2.0</td>\n",
       "      <td>173538.0</td>\n",
       "      <td>I made this and took it to several holiday fun...</td>\n",
       "      <td>strawberry fudge</td>\n",
       "      <td>40</td>\n",
       "      <td>26399</td>\n",
       "      <td>2002-10-29</td>\n",
       "      <td>['60-minutes-or-less', 'time-to-make', 'course...</td>\n",
       "      <td>[85.0, 2.0, 67.0, 0.0, 0.0, 2.0, 5.0]</td>\n",
       "      <td>9</td>\n",
       "      <td>['combine first 6 ingredients in a buttered 3-...</td>\n",
       "      <td>a nice change of pace from the traditional cho...</td>\n",
       "      <td>['sugar', 'strawberry gelatin', 'salt', 'milk'...</td>\n",
       "      <td>9</td>\n",
       "    </tr>\n",
       "    <tr>\n",
       "      <th>1</th>\n",
       "      <td>269981</td>\n",
       "      <td>44551</td>\n",
       "      <td>2005-12-12</td>\n",
       "      <td>0.0</td>\n",
       "      <td>NaN</td>\n",
       "      <td>NaN</td>\n",
       "      <td>Sorry this fudge did not turn out well for me,...</td>\n",
       "      <td>strawberry fudge</td>\n",
       "      <td>40</td>\n",
       "      <td>26399</td>\n",
       "      <td>2002-10-29</td>\n",
       "      <td>['60-minutes-or-less', 'time-to-make', 'course...</td>\n",
       "      <td>[85.0, 2.0, 67.0, 0.0, 0.0, 2.0, 5.0]</td>\n",
       "      <td>9</td>\n",
       "      <td>['combine first 6 ingredients in a buttered 3-...</td>\n",
       "      <td>a nice change of pace from the traditional cho...</td>\n",
       "      <td>['sugar', 'strawberry gelatin', 'salt', 'milk'...</td>\n",
       "      <td>9</td>\n",
       "    </tr>\n",
       "  </tbody>\n",
       "</table>\n",
       "</div>"
      ],
      "text/plain": [
       "   user_id  recipe_id        date  rating    u         i  \\\n",
       "0     8937      44551  2005-12-23     4.0  2.0  173538.0   \n",
       "1   269981      44551  2005-12-12     0.0  NaN       NaN   \n",
       "\n",
       "                                              review              name  \\\n",
       "0  I made this and took it to several holiday fun...  strawberry fudge   \n",
       "1  Sorry this fudge did not turn out well for me,...  strawberry fudge   \n",
       "\n",
       "   minutes  contributor_id   submitted  \\\n",
       "0       40           26399  2002-10-29   \n",
       "1       40           26399  2002-10-29   \n",
       "\n",
       "                                                tags  \\\n",
       "0  ['60-minutes-or-less', 'time-to-make', 'course...   \n",
       "1  ['60-minutes-or-less', 'time-to-make', 'course...   \n",
       "\n",
       "                               nutrition  n_steps  \\\n",
       "0  [85.0, 2.0, 67.0, 0.0, 0.0, 2.0, 5.0]        9   \n",
       "1  [85.0, 2.0, 67.0, 0.0, 0.0, 2.0, 5.0]        9   \n",
       "\n",
       "                                               steps  \\\n",
       "0  ['combine first 6 ingredients in a buttered 3-...   \n",
       "1  ['combine first 6 ingredients in a buttered 3-...   \n",
       "\n",
       "                                         description  \\\n",
       "0  a nice change of pace from the traditional cho...   \n",
       "1  a nice change of pace from the traditional cho...   \n",
       "\n",
       "                                         ingredients  n_ingredients  \n",
       "0  ['sugar', 'strawberry gelatin', 'salt', 'milk'...              9  \n",
       "1  ['sugar', 'strawberry gelatin', 'salt', 'milk'...              9  "
      ]
     },
     "execution_count": 135,
     "metadata": {},
     "output_type": "execute_result"
    }
   ],
   "source": [
    "# I will like to know more about the recipe information, and how do they interact with users, I will join the previous table \n",
    "# with the recipe table df2, but firstly need to change the name of 'id' into 'recipe_id'\n",
    "df2 = df2.rename(columns={'id': 'recipe_id'})\n",
    "df_total = df_review.merge(df2, on ='recipe_id', how = 'outer')\n",
    "df_total.head(2)"
   ]
  },
  {
   "cell_type": "markdown",
   "metadata": {},
   "source": [
    "### Incorrect data format\n",
    "\n",
    "**Date data**\n",
    "\n",
    "There are two tables with date data, one is the df_join table(which I joined train, test and validate data together). Another table with data is the df from 'RAW_interations' data.\n",
    "\n",
    "**String data**\n",
    "\n",
    "IDs should be inn string instead of integer or float. So **user_id, recip_id, u and i** all should be in string format."
   ]
  },
  {
   "cell_type": "code",
   "execution_count": 136,
   "metadata": {},
   "outputs": [
    {
     "name": "stdout",
     "output_type": "stream",
     "text": [
      "<class 'pandas.core.frame.DataFrame'>\n",
      "Int64Index: 1132367 entries, 0 to 1132366\n",
      "Data columns (total 18 columns):\n",
      "user_id           1132367 non-null int64\n",
      "recipe_id         1132367 non-null int64\n",
      "date              1132367 non-null object\n",
      "rating            1132367 non-null float64\n",
      "u                 718379 non-null float64\n",
      "i                 718379 non-null float64\n",
      "review            1132198 non-null object\n",
      "name              1132366 non-null object\n",
      "minutes           1132367 non-null int64\n",
      "contributor_id    1132367 non-null int64\n",
      "submitted         1132367 non-null object\n",
      "tags              1132367 non-null object\n",
      "nutrition         1132367 non-null object\n",
      "n_steps           1132367 non-null int64\n",
      "steps             1132367 non-null object\n",
      "description       1108857 non-null object\n",
      "ingredients       1132367 non-null object\n",
      "n_ingredients     1132367 non-null int64\n",
      "dtypes: float64(3), int64(6), object(9)\n",
      "memory usage: 164.1+ MB\n"
     ]
    }
   ],
   "source": [
    "# Firstly look at convert the date of df_join into a correct format\n",
    "df_total.info()"
   ]
  },
  {
   "cell_type": "code",
   "execution_count": 137,
   "metadata": {},
   "outputs": [],
   "source": [
    "df_total['date'] = pd.to_datetime(df_total['date'].astype(str), format='%Y-%m-%d')\n",
    "df_total['submitted'] = pd.to_datetime(df_total['submitted'].astype(str), format='%Y-%m-%d')"
   ]
  },
  {
   "cell_type": "code",
   "execution_count": 138,
   "metadata": {},
   "outputs": [
    {
     "name": "stdout",
     "output_type": "stream",
     "text": [
      "2018-12-20 00:00:00\n",
      "2000-01-25 00:00:00\n",
      "2018-12-04 00:00:00\n",
      "1999-08-06 00:00:00\n"
     ]
    }
   ],
   "source": [
    "print(df_total['date'].max())\n",
    "print(df_total['date'].min())\n",
    "print(df_total['submitted'].max())\n",
    "print(df_total['submitted'].min())"
   ]
  },
  {
   "cell_type": "code",
   "execution_count": 139,
   "metadata": {},
   "outputs": [
    {
     "name": "stdout",
     "output_type": "stream",
     "text": [
      "<class 'pandas.core.frame.DataFrame'>\n",
      "Int64Index: 1132367 entries, 0 to 1132366\n",
      "Data columns (total 18 columns):\n",
      "user_id           1132367 non-null object\n",
      "recipe_id         1132367 non-null object\n",
      "date              1132367 non-null datetime64[ns]\n",
      "rating            1132367 non-null float64\n",
      "u                 1132367 non-null object\n",
      "i                 1132367 non-null object\n",
      "review            1132198 non-null object\n",
      "name              1132366 non-null object\n",
      "minutes           1132367 non-null int64\n",
      "contributor_id    1132367 non-null int64\n",
      "submitted         1132367 non-null datetime64[ns]\n",
      "tags              1132367 non-null object\n",
      "nutrition         1132367 non-null object\n",
      "n_steps           1132367 non-null int64\n",
      "steps             1132367 non-null object\n",
      "description       1108857 non-null object\n",
      "ingredients       1132367 non-null object\n",
      "n_ingredients     1132367 non-null int64\n",
      "dtypes: datetime64[ns](2), float64(1), int64(4), object(11)\n",
      "memory usage: 164.1+ MB\n"
     ]
    }
   ],
   "source": [
    "df_total[['user_id','recipe_id', 'u','i']] = df_total[['user_id','recipe_id', 'u','i']].astype(str)\n",
    "df_total.info()"
   ]
  },
  {
   "cell_type": "markdown",
   "metadata": {},
   "source": [
    "### Missing data\n",
    "\n",
    "#### Missing data in columns\n",
    "\n",
    "How much missing data is present in each column? There are a few columns that are outliers in terms of the proportion of values that are missing. I will need to identify and document these columns. While some of these columns might have justifications for keeping or re-encoding the data. Besides, I will plot a histogram graph to better visualize the columns with missing data."
   ]
  },
  {
   "cell_type": "code",
   "execution_count": 140,
   "metadata": {},
   "outputs": [],
   "source": [
    "# Create one function to check the missing data per each column and also the percentage of the missing data\n",
    "def assess_missing_data(df):\n",
    "    '''\n",
    "    A function to find out the missing data and its statistic information\n",
    "    \n",
    "    input:\n",
    "    df: the data frame\n",
    "    \n",
    "    output:\n",
    "    df_stats: the statistic information of missing column, will be missing value count and\n",
    "    missing value percentage\n",
    "    '''\n",
    "    \n",
    "    rec = []\n",
    "    for column_name in df.columns:\n",
    "        miss_count = df[column_name].isnull().sum(axis=0)\n",
    "        miss_percent=miss_count/df.shape[0]\n",
    "        rec.append([column_name,miss_count,miss_percent*100])\n",
    "        df_stats = pd.DataFrame.from_records(rec, columns = ['column name', \n",
    "                                                             'missing_count','missing_percentage'])  \n",
    "        df_stats = df_stats.sort_values('missing_percentage',axis=0, ascending = False )\n",
    "    return df_stats"
   ]
  },
  {
   "cell_type": "code",
   "execution_count": 141,
   "metadata": {},
   "outputs": [
    {
     "data": {
      "text/html": [
       "<div>\n",
       "<style scoped>\n",
       "    .dataframe tbody tr th:only-of-type {\n",
       "        vertical-align: middle;\n",
       "    }\n",
       "\n",
       "    .dataframe tbody tr th {\n",
       "        vertical-align: top;\n",
       "    }\n",
       "\n",
       "    .dataframe thead th {\n",
       "        text-align: right;\n",
       "    }\n",
       "</style>\n",
       "<table border=\"1\" class=\"dataframe\">\n",
       "  <thead>\n",
       "    <tr style=\"text-align: right;\">\n",
       "      <th></th>\n",
       "      <th>column name</th>\n",
       "      <th>missing_count</th>\n",
       "      <th>missing_percentage</th>\n",
       "    </tr>\n",
       "  </thead>\n",
       "  <tbody>\n",
       "    <tr>\n",
       "      <th>15</th>\n",
       "      <td>description</td>\n",
       "      <td>23510</td>\n",
       "      <td>2.076182</td>\n",
       "    </tr>\n",
       "    <tr>\n",
       "      <th>6</th>\n",
       "      <td>review</td>\n",
       "      <td>169</td>\n",
       "      <td>0.014924</td>\n",
       "    </tr>\n",
       "    <tr>\n",
       "      <th>7</th>\n",
       "      <td>name</td>\n",
       "      <td>1</td>\n",
       "      <td>0.000088</td>\n",
       "    </tr>\n",
       "    <tr>\n",
       "      <th>0</th>\n",
       "      <td>user_id</td>\n",
       "      <td>0</td>\n",
       "      <td>0.000000</td>\n",
       "    </tr>\n",
       "    <tr>\n",
       "      <th>10</th>\n",
       "      <td>submitted</td>\n",
       "      <td>0</td>\n",
       "      <td>0.000000</td>\n",
       "    </tr>\n",
       "    <tr>\n",
       "      <th>16</th>\n",
       "      <td>ingredients</td>\n",
       "      <td>0</td>\n",
       "      <td>0.000000</td>\n",
       "    </tr>\n",
       "    <tr>\n",
       "      <th>14</th>\n",
       "      <td>steps</td>\n",
       "      <td>0</td>\n",
       "      <td>0.000000</td>\n",
       "    </tr>\n",
       "    <tr>\n",
       "      <th>13</th>\n",
       "      <td>n_steps</td>\n",
       "      <td>0</td>\n",
       "      <td>0.000000</td>\n",
       "    </tr>\n",
       "    <tr>\n",
       "      <th>12</th>\n",
       "      <td>nutrition</td>\n",
       "      <td>0</td>\n",
       "      <td>0.000000</td>\n",
       "    </tr>\n",
       "    <tr>\n",
       "      <th>11</th>\n",
       "      <td>tags</td>\n",
       "      <td>0</td>\n",
       "      <td>0.000000</td>\n",
       "    </tr>\n",
       "    <tr>\n",
       "      <th>9</th>\n",
       "      <td>contributor_id</td>\n",
       "      <td>0</td>\n",
       "      <td>0.000000</td>\n",
       "    </tr>\n",
       "    <tr>\n",
       "      <th>1</th>\n",
       "      <td>recipe_id</td>\n",
       "      <td>0</td>\n",
       "      <td>0.000000</td>\n",
       "    </tr>\n",
       "    <tr>\n",
       "      <th>8</th>\n",
       "      <td>minutes</td>\n",
       "      <td>0</td>\n",
       "      <td>0.000000</td>\n",
       "    </tr>\n",
       "    <tr>\n",
       "      <th>5</th>\n",
       "      <td>i</td>\n",
       "      <td>0</td>\n",
       "      <td>0.000000</td>\n",
       "    </tr>\n",
       "    <tr>\n",
       "      <th>4</th>\n",
       "      <td>u</td>\n",
       "      <td>0</td>\n",
       "      <td>0.000000</td>\n",
       "    </tr>\n",
       "    <tr>\n",
       "      <th>3</th>\n",
       "      <td>rating</td>\n",
       "      <td>0</td>\n",
       "      <td>0.000000</td>\n",
       "    </tr>\n",
       "    <tr>\n",
       "      <th>2</th>\n",
       "      <td>date</td>\n",
       "      <td>0</td>\n",
       "      <td>0.000000</td>\n",
       "    </tr>\n",
       "    <tr>\n",
       "      <th>17</th>\n",
       "      <td>n_ingredients</td>\n",
       "      <td>0</td>\n",
       "      <td>0.000000</td>\n",
       "    </tr>\n",
       "  </tbody>\n",
       "</table>\n",
       "</div>"
      ],
      "text/plain": [
       "       column name  missing_count  missing_percentage\n",
       "15     description          23510            2.076182\n",
       "6           review            169            0.014924\n",
       "7             name              1            0.000088\n",
       "0          user_id              0            0.000000\n",
       "10       submitted              0            0.000000\n",
       "16     ingredients              0            0.000000\n",
       "14           steps              0            0.000000\n",
       "13         n_steps              0            0.000000\n",
       "12       nutrition              0            0.000000\n",
       "11            tags              0            0.000000\n",
       "9   contributor_id              0            0.000000\n",
       "1        recipe_id              0            0.000000\n",
       "8          minutes              0            0.000000\n",
       "5                i              0            0.000000\n",
       "4                u              0            0.000000\n",
       "3           rating              0            0.000000\n",
       "2             date              0            0.000000\n",
       "17   n_ingredients              0            0.000000"
      ]
     },
     "execution_count": 141,
     "metadata": {},
     "output_type": "execute_result"
    }
   ],
   "source": [
    "# df_review data\n",
    "assess_missing_data(df_total)"
   ]
  },
  {
   "cell_type": "markdown",
   "metadata": {},
   "source": [
    "#### Missing data in rows\n",
    "\n",
    "Now I will perform a similar assessment for the rows of the dataset. How much data is missing in each row? As with the columns, you should see some groups of points that have a very different numbers of missing values. I will again plot a visual graph to let you see the distribution of rows with missing data. But since we are not able to show all the rows, so I will not use the function I created from the previous part."
   ]
  },
  {
   "cell_type": "code",
   "execution_count": 142,
   "metadata": {},
   "outputs": [
    {
     "data": {
      "text/plain": [
       "Text(0.5, 0, 'number of missing data')"
      ]
     },
     "execution_count": 142,
     "metadata": {},
     "output_type": "execute_result"
    },
    {
     "data": {
      "image/png": "[encoded data removed]",
      "text/plain": [
       "<Figure size 432x288 with 1 Axes>"
      ]
     },
     "metadata": {},
     "output_type": "display_data"
    }
   ],
   "source": [
    "df_total.isnull().sum(axis=1).hist(bins = 20)\n",
    "plt.title('rows with missing data')\n",
    "plt.ylabel('number of rows')\n",
    "plt.xlabel('number of missing data')"
   ]
  },
  {
   "cell_type": "markdown",
   "metadata": {},
   "source": [
    "Quite clean dataset, there is only review has 169 null data, we can fill it with 0."
   ]
  },
  {
   "cell_type": "code",
   "execution_count": 143,
   "metadata": {},
   "outputs": [
    {
     "data": {
      "text/plain": [
       "user_id           0\n",
       "recipe_id         0\n",
       "date              0\n",
       "rating            0\n",
       "u                 0\n",
       "i                 0\n",
       "review            0\n",
       "name              0\n",
       "minutes           0\n",
       "contributor_id    0\n",
       "submitted         0\n",
       "tags              0\n",
       "nutrition         0\n",
       "n_steps           0\n",
       "steps             0\n",
       "description       0\n",
       "ingredients       0\n",
       "n_ingredients     0\n",
       "dtype: int64"
      ]
     },
     "execution_count": 143,
     "metadata": {},
     "output_type": "execute_result"
    }
   ],
   "source": [
    "df_total = df_total.fillna(0)\n",
    "df_total.isnull().sum()"
   ]
  },
  {
   "cell_type": "markdown",
   "metadata": {},
   "source": [
    "#### Not proper data\n",
    "\n",
    "Since we might also use minutes, we probably like to calculate the minutes into hours."
   ]
  },
  {
   "cell_type": "code",
   "execution_count": 153,
   "metadata": {},
   "outputs": [],
   "source": [
    "df_total['cooking_time'] = df_total['minutes']/60"
   ]
  },
  {
   "cell_type": "code",
   "execution_count": 189,
   "metadata": {},
   "outputs": [],
   "source": [
    "df2 = pd.DataFrame(df_total['ingredients'].str.split().values.tolist())\n",
    "df2.head()"
   ]
  },
  {
   "cell_type": "markdown",
   "metadata": {},
   "source": [
    "## Analyze Data"
   ]
  },
  {
   "cell_type": "code",
   "execution_count": 144,
   "metadata": {},
   "outputs": [
    {
     "data": {
      "text/html": [
       "<div>\n",
       "<style scoped>\n",
       "    .dataframe tbody tr th:only-of-type {\n",
       "        vertical-align: middle;\n",
       "    }\n",
       "\n",
       "    .dataframe tbody tr th {\n",
       "        vertical-align: top;\n",
       "    }\n",
       "\n",
       "    .dataframe thead th {\n",
       "        text-align: right;\n",
       "    }\n",
       "</style>\n",
       "<table border=\"1\" class=\"dataframe\">\n",
       "  <thead>\n",
       "    <tr style=\"text-align: right;\">\n",
       "      <th></th>\n",
       "      <th>user_id</th>\n",
       "      <th>recipe_id</th>\n",
       "      <th>date</th>\n",
       "      <th>rating</th>\n",
       "      <th>u</th>\n",
       "      <th>i</th>\n",
       "      <th>review</th>\n",
       "      <th>name</th>\n",
       "      <th>minutes</th>\n",
       "      <th>contributor_id</th>\n",
       "      <th>submitted</th>\n",
       "      <th>tags</th>\n",
       "      <th>nutrition</th>\n",
       "      <th>n_steps</th>\n",
       "      <th>steps</th>\n",
       "      <th>description</th>\n",
       "      <th>ingredients</th>\n",
       "      <th>n_ingredients</th>\n",
       "    </tr>\n",
       "  </thead>\n",
       "  <tbody>\n",
       "    <tr>\n",
       "      <th>0</th>\n",
       "      <td>8937</td>\n",
       "      <td>44551</td>\n",
       "      <td>2005-12-23</td>\n",
       "      <td>4.0</td>\n",
       "      <td>2.0</td>\n",
       "      <td>173538.0</td>\n",
       "      <td>I made this and took it to several holiday fun...</td>\n",
       "      <td>strawberry fudge</td>\n",
       "      <td>40</td>\n",
       "      <td>26399</td>\n",
       "      <td>2002-10-29</td>\n",
       "      <td>['60-minutes-or-less', 'time-to-make', 'course...</td>\n",
       "      <td>[85.0, 2.0, 67.0, 0.0, 0.0, 2.0, 5.0]</td>\n",
       "      <td>9</td>\n",
       "      <td>['combine first 6 ingredients in a buttered 3-...</td>\n",
       "      <td>a nice change of pace from the traditional cho...</td>\n",
       "      <td>['sugar', 'strawberry gelatin', 'salt', 'milk'...</td>\n",
       "      <td>9</td>\n",
       "    </tr>\n",
       "    <tr>\n",
       "      <th>1</th>\n",
       "      <td>269981</td>\n",
       "      <td>44551</td>\n",
       "      <td>2005-12-12</td>\n",
       "      <td>0.0</td>\n",
       "      <td>nan</td>\n",
       "      <td>nan</td>\n",
       "      <td>Sorry this fudge did not turn out well for me,...</td>\n",
       "      <td>strawberry fudge</td>\n",
       "      <td>40</td>\n",
       "      <td>26399</td>\n",
       "      <td>2002-10-29</td>\n",
       "      <td>['60-minutes-or-less', 'time-to-make', 'course...</td>\n",
       "      <td>[85.0, 2.0, 67.0, 0.0, 0.0, 2.0, 5.0]</td>\n",
       "      <td>9</td>\n",
       "      <td>['combine first 6 ingredients in a buttered 3-...</td>\n",
       "      <td>a nice change of pace from the traditional cho...</td>\n",
       "      <td>['sugar', 'strawberry gelatin', 'salt', 'milk'...</td>\n",
       "      <td>9</td>\n",
       "    </tr>\n",
       "  </tbody>\n",
       "</table>\n",
       "</div>"
      ],
      "text/plain": [
       "  user_id recipe_id       date  rating    u         i  \\\n",
       "0    8937     44551 2005-12-23     4.0  2.0  173538.0   \n",
       "1  269981     44551 2005-12-12     0.0  nan       nan   \n",
       "\n",
       "                                              review              name  \\\n",
       "0  I made this and took it to several holiday fun...  strawberry fudge   \n",
       "1  Sorry this fudge did not turn out well for me,...  strawberry fudge   \n",
       "\n",
       "   minutes  contributor_id  submitted  \\\n",
       "0       40           26399 2002-10-29   \n",
       "1       40           26399 2002-10-29   \n",
       "\n",
       "                                                tags  \\\n",
       "0  ['60-minutes-or-less', 'time-to-make', 'course...   \n",
       "1  ['60-minutes-or-less', 'time-to-make', 'course...   \n",
       "\n",
       "                               nutrition  n_steps  \\\n",
       "0  [85.0, 2.0, 67.0, 0.0, 0.0, 2.0, 5.0]        9   \n",
       "1  [85.0, 2.0, 67.0, 0.0, 0.0, 2.0, 5.0]        9   \n",
       "\n",
       "                                               steps  \\\n",
       "0  ['combine first 6 ingredients in a buttered 3-...   \n",
       "1  ['combine first 6 ingredients in a buttered 3-...   \n",
       "\n",
       "                                         description  \\\n",
       "0  a nice change of pace from the traditional cho...   \n",
       "1  a nice change of pace from the traditional cho...   \n",
       "\n",
       "                                         ingredients  n_ingredients  \n",
       "0  ['sugar', 'strawberry gelatin', 'salt', 'milk'...              9  \n",
       "1  ['sugar', 'strawberry gelatin', 'salt', 'milk'...              9  "
      ]
     },
     "execution_count": 144,
     "metadata": {},
     "output_type": "execute_result"
    }
   ],
   "source": [
    "df_total.head(2)"
   ]
  },
  {
   "cell_type": "markdown",
   "metadata": {},
   "source": [
    "### The most popular recipes"
   ]
  },
  {
   "cell_type": "code",
   "execution_count": 53,
   "metadata": {},
   "outputs": [
    {
     "data": {
      "text/plain": [
       "recipe_id  name                                                      \n",
       "2886       best banana bread                                             1613\n",
       "27208      to die for crock pot roast                                    1601\n",
       "89204      crock pot chicken with black beans   cream cheese             1579\n",
       "39087      creamy cajun chicken pasta                                    1448\n",
       "67256      best ever banana cake with cream cheese frosting              1322\n",
       "54257      yes  virginia there is a great meatloaf                       1305\n",
       "22782      jo mama s world famous spaghetti                              1234\n",
       "32204      whatever floats your boat  brownies                           1220\n",
       "69173      kittencal s italian melt in your mouth meatballs               997\n",
       "68955      japanese mum s chicken                                         904\n",
       "33919      creamy burrito casserole                                       877\n",
       "82102      kittencal s moist cheddar garlic oven fried chicken breast     855\n",
       "25885      banana banana bread                                            847\n",
       "28148      oven fried chicken chimichangas                                802\n",
       "135350     fannie farmer s classic baked macaroni   cheese                786\n",
       "26110      southern buttermilk biscuits                                   770\n",
       "99476      the best easy beef and broccoli stir fry                       762\n",
       "10744      delicious chicken pot pie                                      731\n",
       "129926     simply sour cream chicken enchiladas                           730\n",
       "33671      crock pot whole chicken                                        727\n",
       "Name: user_id, dtype: int64"
      ]
     },
     "execution_count": 53,
     "metadata": {},
     "output_type": "execute_result"
    }
   ],
   "source": [
    "df_total.groupby(['recipe_id','name'])['user_id'].count().sort_values(ascending=False).head(20)"
   ]
  },
  {
   "cell_type": "markdown",
   "metadata": {},
   "source": [
    "Lets list the top 20 most popular recipes (the IDs and the name of recipes)."
   ]
  },
  {
   "cell_type": "markdown",
   "metadata": {},
   "source": [
    "### Top ranked recipes"
   ]
  },
  {
   "cell_type": "code",
   "execution_count": 54,
   "metadata": {},
   "outputs": [
    {
     "data": {
      "text/plain": [
       "recipe_id  name                                                        rating\n",
       "2886       best banana bread                                           5.0       1252\n",
       "39087      creamy cajun chicken pasta                                  5.0       1191\n",
       "27208      to die for crock pot roast                                  5.0       1131\n",
       "67256      best ever banana cake with cream cheese frosting            5.0       1042\n",
       "89204      crock pot chicken with black beans   cream cheese           5.0       1009\n",
       "32204      whatever floats your boat  brownies                         5.0       1007\n",
       "22782      jo mama s world famous spaghetti                            5.0        957\n",
       "54257      yes  virginia there is a great meatloaf                     5.0        925\n",
       "69173      kittencal s italian melt in your mouth meatballs            5.0        879\n",
       "82102      kittencal s moist cheddar garlic oven fried chicken breast  5.0        688\n",
       "28148      oven fried chicken chimichangas                             5.0        673\n",
       "68955      japanese mum s chicken                                      5.0        639\n",
       "25885      banana banana bread                                         5.0        630\n",
       "33919      creamy burrito casserole                                    5.0        614\n",
       "10744      delicious chicken pot pie                                   5.0        602\n",
       "33671      crock pot whole chicken                                     5.0        588\n",
       "150863     panera s cream cheese potato soup                           5.0        587\n",
       "26110      southern buttermilk biscuits                                5.0        585\n",
       "63689      my family s favorite sloppy joes  pizza joes                5.0        578\n",
       "107786     beth s melt in your mouth barbecue ribs  oven               5.0        570\n",
       "Name: rating, dtype: int64"
      ]
     },
     "execution_count": 54,
     "metadata": {},
     "output_type": "execute_result"
    }
   ],
   "source": [
    "df_total.groupby(['recipe_id','name'])['rating'].value_counts().sort_values(ascending=False).head(20)"
   ]
  },
  {
   "cell_type": "markdown",
   "metadata": {},
   "source": [
    "We have here the most ranked recipes. Interesting thing is the top 1 ranked recipe is the same as the most popular recipes.\n",
    "\n",
    "### Distribution of the ratings"
   ]
  },
  {
   "cell_type": "code",
   "execution_count": 102,
   "metadata": {},
   "outputs": [
    {
     "data": {
      "image/png": "[encoded data removed]",
      "text/plain": [
       "<Figure size 720x432 with 1 Axes>"
      ]
     },
     "metadata": {},
     "output_type": "display_data"
    }
   ],
   "source": [
    "ax = df_total.hist(column='rating', bins=10, grid=False, figsize=(10,6), color='lightblue', zorder=2, rwidth=0.9)\n",
    "plt.xlabel('ratings', fontsize=14)\n",
    "plt.ylabel('count', fontsize=14)\n",
    "plt.title('Rating distribution', fontsize=15)\n",
    "plt.axvline(df_total['rating'].mean(), color='k', linestyle='--')\n",
    "min_ylim, max_ylim = plt.ylim()\n",
    "plt.text(x.mean()*1, max_ylim*0.9, 'Mean: {:.2f}'.format(df_total['rating'].mean()))\n",
    "plt.show()"
   ]
  },
  {
   "cell_type": "markdown",
   "metadata": {},
   "source": [
    "### Distribution of the number of steps"
   ]
  },
  {
   "cell_type": "code",
   "execution_count": 104,
   "metadata": {},
   "outputs": [
    {
     "data": {
      "image/png": "[encoded data removed]",
      "text/plain": [
       "<Figure size 720x432 with 1 Axes>"
      ]
     },
     "metadata": {},
     "output_type": "display_data"
    }
   ],
   "source": [
    "ax = df_total.hist(column='n_steps', bins=10, grid=False, figsize=(10,6), color='lightblue', zorder=2, rwidth=0.9)\n",
    "plt.xlabel('number of steps', fontsize=14)\n",
    "plt.ylabel('count', fontsize=14)\n",
    "plt.title('Number of steps distribution', fontsize=15)\n",
    "plt.axvline(df_total['n_steps'].mean(), color='k', linestyle='--')\n",
    "min_ylim, max_ylim = plt.ylim()\n",
    "plt.text(x.mean()*1, max_ylim*0.9, 'Mean: {:.2f}'.format(df_total['n_steps'].mean()))\n",
    "plt.show()"
   ]
  },
  {
   "cell_type": "markdown",
   "metadata": {},
   "source": [
    "### Distribution of cooking time"
   ]
  },
  {
   "cell_type": "code",
   "execution_count": 180,
   "metadata": {},
   "outputs": [
    {
     "data": {
      "text/plain": [
       "<matplotlib.axes._subplots.AxesSubplot at 0x138a13ad588>"
      ]
     },
     "execution_count": 180,
     "metadata": {},
     "output_type": "execute_result"
    },
    {
     "data": {
      "image/png": "[encoded data removed]",
      "text/plain": [
       "<Figure size 432x288 with 1 Axes>"
      ]
     },
     "metadata": {},
     "output_type": "display_data"
    }
   ],
   "source": [
    "data = df_total['minutes']\n",
    "sns.set_style('whitegrid')\n",
    "sns.kdeplot(np.array(data), bw=0.5)"
   ]
  },
  {
   "cell_type": "markdown",
   "metadata": {},
   "source": [
    "### Correlation between the most popular recipes with the other factors."
   ]
  },
  {
   "cell_type": "code",
   "execution_count": null,
   "metadata": {},
   "outputs": [],
   "source": []
  }
 ],
 "metadata": {
  "kernelspec": {
   "display_name": "Python 3",
   "language": "python",
   "name": "python3"
  },
  "language_info": {
   "codemirror_mode": {
    "name": "ipython",
    "version": 3
   },
   "file_extension": ".py",
   "mimetype": "text/x-python",
   "name": "python",
   "nbconvert_exporter": "python",
   "pygments_lexer": "ipython3",
   "version": "3.6.5"
  }
 },
 "nbformat": 4,
 "nbformat_minor": 2
}
