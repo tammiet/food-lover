{
 "cells": [
  {
   "cell_type": "markdown",
   "metadata": {},
   "source": [
    "# Recommender system\n",
    "## Due date: January 2020\n",
    "## Participants: Sai, Audry, Tammie, Kee, Noemie"
   ]
  },
  {
   "cell_type": "markdown",
   "metadata": {},
   "source": [
    "### PART 1: Exploratory Data Analysis & Visualization"
   ]
  },
  {
   "cell_type": "code",
   "execution_count": 35,
   "metadata": {},
   "outputs": [],
   "source": [
    "# Pandas is an open source Python library that offers data structures and data analysis tools and operations. \n",
    "# Read more at: https://pandas.pydata.org/\n",
    "import pandas as pd\n",
    "import warnings\n",
    "import numpy as np\n",
    "import matplotlib.pyplot as plt\n",
    "warnings.filterwarnings('ignore')\n",
    "%matplotlib inline"
   ]
  },
  {
   "cell_type": "markdown",
   "metadata": {},
   "source": [
    "7 datasets:\n",
    "- interactions_test\n",
    "- interactions_train\n",
    "- interactons_validation\n",
    "- PP_recies\n",
    "- PP_users\n",
    "- RAW_interactions\n",
    "- RAW_recipes"
   ]
  },
  {
   "cell_type": "markdown",
   "metadata": {},
   "source": [
    "#### Dataset RAW_recipes"
   ]
  },
  {
   "cell_type": "code",
   "execution_count": 306,
   "metadata": {
    "scrolled": true
   },
   "outputs": [
    {
     "name": "stdout",
     "output_type": "stream",
     "text": [
      "(231637, 12)\n",
      "name                 1\n",
      "id                   0\n",
      "minutes              0\n",
      "contributor_id       0\n",
      "submitted            0\n",
      "tags                 0\n",
      "nutrition            0\n",
      "n_steps              0\n",
      "steps                0\n",
      "description       4979\n",
      "ingredients          0\n",
      "n_ingredients        0\n",
      "dtype: int64\n"
     ]
    },
    {
     "data": {
      "text/html": [
       "<div>\n",
       "<style scoped>\n",
       "    .dataframe tbody tr th:only-of-type {\n",
       "        vertical-align: middle;\n",
       "    }\n",
       "\n",
       "    .dataframe tbody tr th {\n",
       "        vertical-align: top;\n",
       "    }\n",
       "\n",
       "    .dataframe thead th {\n",
       "        text-align: right;\n",
       "    }\n",
       "</style>\n",
       "<table border=\"1\" class=\"dataframe\">\n",
       "  <thead>\n",
       "    <tr style=\"text-align: right;\">\n",
       "      <th></th>\n",
       "      <th>name</th>\n",
       "      <th>id</th>\n",
       "      <th>minutes</th>\n",
       "      <th>contributor_id</th>\n",
       "      <th>submitted</th>\n",
       "      <th>tags</th>\n",
       "      <th>nutrition</th>\n",
       "      <th>n_steps</th>\n",
       "      <th>steps</th>\n",
       "      <th>description</th>\n",
       "      <th>ingredients</th>\n",
       "      <th>n_ingredients</th>\n",
       "    </tr>\n",
       "  </thead>\n",
       "  <tbody>\n",
       "    <tr>\n",
       "      <td>0</td>\n",
       "      <td>arriba   baked winter squash mexican style</td>\n",
       "      <td>137739</td>\n",
       "      <td>55</td>\n",
       "      <td>47892</td>\n",
       "      <td>2005-09-16</td>\n",
       "      <td>['60-minutes-or-less', 'time-to-make', 'course...</td>\n",
       "      <td>[51.5, 0.0, 13.0, 0.0, 2.0, 0.0, 4.0]</td>\n",
       "      <td>11</td>\n",
       "      <td>['make a choice and proceed with recipe', 'dep...</td>\n",
       "      <td>autumn is my favorite time of year to cook! th...</td>\n",
       "      <td>['winter squash', 'mexican seasoning', 'mixed ...</td>\n",
       "      <td>7</td>\n",
       "    </tr>\n",
       "    <tr>\n",
       "      <td>1</td>\n",
       "      <td>a bit different  breakfast pizza</td>\n",
       "      <td>31490</td>\n",
       "      <td>30</td>\n",
       "      <td>26278</td>\n",
       "      <td>2002-06-17</td>\n",
       "      <td>['30-minutes-or-less', 'time-to-make', 'course...</td>\n",
       "      <td>[173.4, 18.0, 0.0, 17.0, 22.0, 35.0, 1.0]</td>\n",
       "      <td>9</td>\n",
       "      <td>['preheat oven to 425 degrees f', 'press dough...</td>\n",
       "      <td>this recipe calls for the crust to be prebaked...</td>\n",
       "      <td>['prepared pizza crust', 'sausage patty', 'egg...</td>\n",
       "      <td>6</td>\n",
       "    </tr>\n",
       "    <tr>\n",
       "      <td>2</td>\n",
       "      <td>all in the kitchen  chili</td>\n",
       "      <td>112140</td>\n",
       "      <td>130</td>\n",
       "      <td>196586</td>\n",
       "      <td>2005-02-25</td>\n",
       "      <td>['time-to-make', 'course', 'preparation', 'mai...</td>\n",
       "      <td>[269.8, 22.0, 32.0, 48.0, 39.0, 27.0, 5.0]</td>\n",
       "      <td>6</td>\n",
       "      <td>['brown ground beef in large pot', 'add choppe...</td>\n",
       "      <td>this modified version of 'mom's' chili was a h...</td>\n",
       "      <td>['ground beef', 'yellow onions', 'diced tomato...</td>\n",
       "      <td>13</td>\n",
       "    </tr>\n",
       "    <tr>\n",
       "      <td>3</td>\n",
       "      <td>alouette  potatoes</td>\n",
       "      <td>59389</td>\n",
       "      <td>45</td>\n",
       "      <td>68585</td>\n",
       "      <td>2003-04-14</td>\n",
       "      <td>['60-minutes-or-less', 'time-to-make', 'course...</td>\n",
       "      <td>[368.1, 17.0, 10.0, 2.0, 14.0, 8.0, 20.0]</td>\n",
       "      <td>11</td>\n",
       "      <td>['place potatoes in a large pot of lightly sal...</td>\n",
       "      <td>this is a super easy, great tasting, make ahea...</td>\n",
       "      <td>['spreadable cheese with garlic and herbs', 'n...</td>\n",
       "      <td>11</td>\n",
       "    </tr>\n",
       "    <tr>\n",
       "      <td>4</td>\n",
       "      <td>amish  tomato ketchup  for canning</td>\n",
       "      <td>44061</td>\n",
       "      <td>190</td>\n",
       "      <td>41706</td>\n",
       "      <td>2002-10-25</td>\n",
       "      <td>['weeknight', 'time-to-make', 'course', 'main-...</td>\n",
       "      <td>[352.9, 1.0, 337.0, 23.0, 3.0, 0.0, 28.0]</td>\n",
       "      <td>5</td>\n",
       "      <td>['mix all ingredients&amp; boil for 2 1 / 2 hours ...</td>\n",
       "      <td>my dh's amish mother raised him on this recipe...</td>\n",
       "      <td>['tomato juice', 'apple cider vinegar', 'sugar...</td>\n",
       "      <td>8</td>\n",
       "    </tr>\n",
       "  </tbody>\n",
       "</table>\n",
       "</div>"
      ],
      "text/plain": [
       "                                         name      id  minutes  \\\n",
       "0  arriba   baked winter squash mexican style  137739       55   \n",
       "1            a bit different  breakfast pizza   31490       30   \n",
       "2                   all in the kitchen  chili  112140      130   \n",
       "3                          alouette  potatoes   59389       45   \n",
       "4          amish  tomato ketchup  for canning   44061      190   \n",
       "\n",
       "   contributor_id   submitted  \\\n",
       "0           47892  2005-09-16   \n",
       "1           26278  2002-06-17   \n",
       "2          196586  2005-02-25   \n",
       "3           68585  2003-04-14   \n",
       "4           41706  2002-10-25   \n",
       "\n",
       "                                                tags  \\\n",
       "0  ['60-minutes-or-less', 'time-to-make', 'course...   \n",
       "1  ['30-minutes-or-less', 'time-to-make', 'course...   \n",
       "2  ['time-to-make', 'course', 'preparation', 'mai...   \n",
       "3  ['60-minutes-or-less', 'time-to-make', 'course...   \n",
       "4  ['weeknight', 'time-to-make', 'course', 'main-...   \n",
       "\n",
       "                                    nutrition  n_steps  \\\n",
       "0       [51.5, 0.0, 13.0, 0.0, 2.0, 0.0, 4.0]       11   \n",
       "1   [173.4, 18.0, 0.0, 17.0, 22.0, 35.0, 1.0]        9   \n",
       "2  [269.8, 22.0, 32.0, 48.0, 39.0, 27.0, 5.0]        6   \n",
       "3   [368.1, 17.0, 10.0, 2.0, 14.0, 8.0, 20.0]       11   \n",
       "4   [352.9, 1.0, 337.0, 23.0, 3.0, 0.0, 28.0]        5   \n",
       "\n",
       "                                               steps  \\\n",
       "0  ['make a choice and proceed with recipe', 'dep...   \n",
       "1  ['preheat oven to 425 degrees f', 'press dough...   \n",
       "2  ['brown ground beef in large pot', 'add choppe...   \n",
       "3  ['place potatoes in a large pot of lightly sal...   \n",
       "4  ['mix all ingredients& boil for 2 1 / 2 hours ...   \n",
       "\n",
       "                                         description  \\\n",
       "0  autumn is my favorite time of year to cook! th...   \n",
       "1  this recipe calls for the crust to be prebaked...   \n",
       "2  this modified version of 'mom's' chili was a h...   \n",
       "3  this is a super easy, great tasting, make ahea...   \n",
       "4  my dh's amish mother raised him on this recipe...   \n",
       "\n",
       "                                         ingredients  n_ingredients  \n",
       "0  ['winter squash', 'mexican seasoning', 'mixed ...              7  \n",
       "1  ['prepared pizza crust', 'sausage patty', 'egg...              6  \n",
       "2  ['ground beef', 'yellow onions', 'diced tomato...             13  \n",
       "3  ['spreadable cheese with garlic and herbs', 'n...             11  \n",
       "4  ['tomato juice', 'apple cider vinegar', 'sugar...              8  "
      ]
     },
     "execution_count": 306,
     "metadata": {},
     "output_type": "execute_result"
    }
   ],
   "source": [
    "# Import the data RAW_recipes\n",
    "RAW_recipes = pd.read_csv(\"C:/Users/U597910/Downloads/recommender_system/RAW_recipes.csv\")\n",
    "# Dimensions of our dataframe\n",
    "print(RAW_recipes.shape)\n",
    "# missing values (1 name and description, not super important)\n",
    "print(RAW_recipes.isnull().sum())\n",
    "# 5 first rows of the dataframe\n",
    "RAW_recipes.head()"
   ]
  },
  {
   "cell_type": "code",
   "execution_count": 305,
   "metadata": {
    "scrolled": true
   },
   "outputs": [
    {
     "name": "stdout",
     "output_type": "stream",
     "text": [
      "230185\n",
      "600                  cream  of mushroom soup\n",
      "846                             10 bean soup\n",
      "1314                      3 bean baked beans\n",
      "1315                            3 bean salad\n",
      "1335      3 ingredient peanut butter cookies\n",
      "                         ...                \n",
      "231519               zucchini carrot muffins\n",
      "231524       zucchini chocolate chip muffins\n",
      "231526                 zucchini cilantro dip\n",
      "231536                   zucchini lime bread\n",
      "231537                    zucchini oat bread\n",
      "Name: name, Length: 1451, dtype: object\n",
      "name                 1\n",
      "id                   0\n",
      "minutes              0\n",
      "contributor_id       0\n",
      "submitted            0\n",
      "tags                 0\n",
      "nutrition            0\n",
      "n_steps              0\n",
      "steps                0\n",
      "description       4979\n",
      "ingredients          0\n",
      "n_ingredients        0\n",
      "nutrition1           0\n",
      "nutrition2           0\n",
      "nutrition3           0\n",
      "nutrition4           0\n",
      "nutrition5           0\n",
      "nutrition6           0\n",
      "nutrition7           0\n",
      "dtype: int64\n"
     ]
    }
   ],
   "source": [
    "# name (of the recipe)\n",
    "print(RAW_recipes['name'].nunique())\n",
    "\n",
    "duplicated_names = RAW_recipes.name[RAW_recipes.name.duplicated()]\n",
    "print(duplicated_names)\n",
    "\n"
   ]
  },
  {
   "cell_type": "code",
   "execution_count": 192,
   "metadata": {},
   "outputs": [
    {
     "name": "stdout",
     "output_type": "stream",
     "text": [
      "231637\n"
     ]
    }
   ],
   "source": [
    "# id (of the recipe)\n",
    "print(RAW_recipes['id'].nunique())"
   ]
  },
  {
   "cell_type": "code",
   "execution_count": 205,
   "metadata": {},
   "outputs": [
    {
     "name": "stdout",
     "output_type": "stream",
     "text": [
      "888\n",
      "count    2.316370e+05\n",
      "mean     9.398546e+03\n",
      "std      4.461963e+06\n",
      "min      0.000000e+00\n",
      "25%      2.000000e+01\n",
      "50%      4.000000e+01\n",
      "75%      6.500000e+01\n",
      "max      2.147484e+09\n",
      "Name: minutes, dtype: float64\n"
     ]
    },
    {
     "data": {
      "text/plain": [
       "{'whiskers': [<matplotlib.lines.Line2D at 0x1bf9bcd0388>,\n",
       "  <matplotlib.lines.Line2D at 0x1bf9b081708>],\n",
       " 'caps': [<matplotlib.lines.Line2D at 0x1bf9ada9b88>,\n",
       "  <matplotlib.lines.Line2D at 0x1bf9913cc88>],\n",
       " 'boxes': [<matplotlib.lines.Line2D at 0x1bf9c598a08>],\n",
       " 'medians': [<matplotlib.lines.Line2D at 0x1bf96a7c348>],\n",
       " 'fliers': [<matplotlib.lines.Line2D at 0x1bf9e120a48>],\n",
       " 'means': []}"
      ]
     },
     "execution_count": 205,
     "metadata": {},
     "output_type": "execute_result"
    },
    {
     "data": {
      "image/png": "[encoded data removed]",
      "text/plain": [
       "<Figure size 1800x360 with 1 Axes>"
      ]
     },
     "metadata": {
      "needs_background": "light"
     },
     "output_type": "display_data"
    }
   ],
   "source": [
    "# minutes (to prepare the recipe)\n",
    "print(RAW_recipes['minutes'].nunique())\n",
    "\n",
    "print(RAW_recipes['minutes'].describe())\n",
    "\n",
    "plt.boxplot(RAW_recipes.minutes,vert=False)\n",
    "\n",
    "# clean to do on minutes "
   ]
  },
  {
   "cell_type": "code",
   "execution_count": 219,
   "metadata": {},
   "outputs": [
    {
     "name": "stdout",
     "output_type": "stream",
     "text": [
      "27926\n",
      "contributor_id\n",
      "89831     3118\n",
      "37779     2553\n",
      "37449     2493\n",
      "1533      1595\n",
      "58104     1522\n",
      "          ... \n",
      "558981       1\n",
      "559087       1\n",
      "559135       1\n",
      "559289       1\n",
      "378000       1\n",
      "Length: 27926, dtype: int64\n",
      "count    27926.000000\n",
      "mean         8.294672\n",
      "std         49.108016\n",
      "min          1.000000\n",
      "25%          1.000000\n",
      "50%          1.000000\n",
      "75%          3.000000\n",
      "max       3118.000000\n",
      "dtype: float64\n"
     ]
    }
   ],
   "source": [
    "# contributor_id\n",
    "print(RAW_recipes['contributor_id'].nunique())\n",
    "\n",
    "contributor_group = RAW_recipes.groupby(['contributor_id']).size()\n",
    "print(contributor_group.sort_values(ascending=False))\n",
    "print(contributor_group.describe())"
   ]
  },
  {
   "cell_type": "code",
   "execution_count": 223,
   "metadata": {},
   "outputs": [
    {
     "name": "stdout",
     "output_type": "stream",
     "text": [
      "5090\n",
      "submitted\n",
      "1999-08-06    13\n",
      "1999-08-07    10\n",
      "1999-08-08     8\n",
      "1999-08-09    21\n",
      "1999-08-10    18\n",
      "              ..\n",
      "2018-11-10     2\n",
      "2018-11-12     1\n",
      "2018-11-16     1\n",
      "2018-11-28     1\n",
      "2018-12-04     1\n",
      "Length: 5090, dtype: int64\n",
      "1999-08-06\n",
      "2018-12-04\n"
     ]
    },
    {
     "data": {
      "image/png": "[encoded data removed]",
      "text/plain": [
       "<Figure size 1800x360 with 1 Axes>"
      ]
     },
     "metadata": {
      "needs_background": "light"
     },
     "output_type": "display_data"
    }
   ],
   "source": [
    "# submitted (date of the recipe)\n",
    "print(RAW_recipes['submitted'].nunique())\n",
    "\n",
    "submitted_group = RAW_recipes.groupby('submitted')\n",
    "print(submitted_group.size())\n",
    "submitted_group.size().plot.line()\n",
    "\n",
    "print(min(RAW_recipes.submitted))\n",
    "print(max(RAW_recipes.submitted))\n",
    "\n",
    "plt.rcParams['figure.figsize'] = [25, 5]\n",
    "\n",
    "# should merge with a real calendar so that missin dates are set to 0\n"
   ]
  },
  {
   "cell_type": "code",
   "execution_count": 248,
   "metadata": {},
   "outputs": [
    {
     "name": "stdout",
     "output_type": "stream",
     "text": [
      "209115\n",
      "0    ['60-minutes-or-less', 'time-to-make', 'course...\n",
      "1    ['30-minutes-or-less', 'time-to-make', 'course...\n",
      "2    ['time-to-make', 'course', 'preparation', 'mai...\n",
      "3    ['60-minutes-or-less', 'time-to-make', 'course...\n",
      "4    ['weeknight', 'time-to-make', 'course', 'main-...\n",
      "Name: tags, dtype: object\n",
      "59173823\n",
      "['[', \"'\", '6', '0', '-', 'm', 'i', 'n', 'u']\n"
     ]
    }
   ],
   "source": [
    "# tags (to get the recipe)\n",
    "print(RAW_recipes['tags'].nunique())\n",
    "print(RAW_recipes['tags'].head())\n",
    "\n",
    "# gather all lists into 1 to do some statistics on tags\n",
    "#import itertools\n",
    "#mylist = list((RAW_recipes['tags']))\n",
    "#mylist2=list(itertools.chain(*RAW_recipes['tags']))\n",
    "#print(len(mylist2))\n",
    "\n",
    "#print(mylist2[0:9])\n",
    "\n",
    "\n"
   ]
  },
  {
   "cell_type": "code",
   "execution_count": 251,
   "metadata": {},
   "outputs": [
    {
     "name": "stdout",
     "output_type": "stream",
     "text": [
      "229318\n",
      "count    231637.000000\n",
      "mean        473.942425\n",
      "std        1189.711374\n",
      "min           0.000000\n",
      "25%         174.400000\n",
      "50%         313.400000\n",
      "75%         519.700000\n",
      "max      434360.200000\n",
      "Name: nutrition1, dtype: float64\n",
      "count    231637.00000\n",
      "mean         36.08070\n",
      "std          77.79884\n",
      "min           0.00000\n",
      "25%           8.00000\n",
      "50%          20.00000\n",
      "75%          41.00000\n",
      "max       17183.00000\n",
      "Name: nutrition2, dtype: float64\n",
      "count    231637.000000\n",
      "mean         84.296865\n",
      "std         800.080897\n",
      "min           0.000000\n",
      "25%           9.000000\n",
      "50%          25.000000\n",
      "75%          68.000000\n",
      "max      362729.000000\n",
      "Name: nutrition3, dtype: float64\n",
      "count    231637.000000\n",
      "mean         30.147485\n",
      "std         131.961589\n",
      "min           0.000000\n",
      "25%           5.000000\n",
      "50%          14.000000\n",
      "75%          33.000000\n",
      "max       29338.000000\n",
      "Name: nutrition4, dtype: float64\n",
      "count    231637.00000\n",
      "mean         34.68186\n",
      "std          58.47248\n",
      "min           0.00000\n",
      "25%           7.00000\n",
      "50%          18.00000\n",
      "75%          51.00000\n",
      "max        6552.00000\n",
      "Name: nutrition5, dtype: float64\n",
      "count    231637.000000\n",
      "mean         45.589150\n",
      "std          98.235758\n",
      "min           0.000000\n",
      "25%           7.000000\n",
      "50%          23.000000\n",
      "75%          52.000000\n",
      "max       10395.000000\n",
      "Name: nutrition6, dtype: float64\n",
      "count    231637.000000\n",
      "mean         15.560403\n",
      "std          81.824560\n",
      "min           0.000000\n",
      "25%           4.000000\n",
      "50%           9.000000\n",
      "75%          16.000000\n",
      "max       36098.000000\n",
      "Name: nutrition7, dtype: float64\n"
     ]
    },
    {
     "data": {
      "text/plain": [
       "Text(0.5, 1.0, '% daily value total carbohydrate')"
      ]
     },
     "execution_count": 251,
     "metadata": {},
     "output_type": "execute_result"
    },
    {
     "data": {
      "image/png": "[encoded data removed]",
      "text/plain": [
       "<Figure size 1800x360 with 1 Axes>"
      ]
     },
     "metadata": {
      "needs_background": "light"
     },
     "output_type": "display_data"
    }
   ],
   "source": [
    "# nutrition (of the recipe)\n",
    "print(RAW_recipes['nutrition'].nunique())\n",
    "\n",
    "RAW_recipes2 = RAW_recipes[\"nutrition\"].str.split(\",\", n = 7, expand = True)\n",
    "RAW_recipes2.head()\n",
    "RAW_recipes[\"nutrition1\"]= RAW_recipes2[0] # nb of calories\n",
    "RAW_recipes[\"nutrition2\"]= RAW_recipes2[1] # % daily value total fat\n",
    "RAW_recipes[\"nutrition3\"]= RAW_recipes2[2] # % daily value sugars\n",
    "RAW_recipes[\"nutrition4\"]= RAW_recipes2[3] # % daily value sodium\n",
    "RAW_recipes[\"nutrition5\"]= RAW_recipes2[4] # % daily value protein\n",
    "RAW_recipes[\"nutrition6\"]= RAW_recipes2[5] # % daily value saturated fat\n",
    "RAW_recipes[\"nutrition7\"]= RAW_recipes2[6] # % daily value total carbohydrate\n",
    "\n",
    "RAW_recipes.nutrition1=RAW_recipes.nutrition1.str.replace('[', '')\n",
    "RAW_recipes.nutrition7=RAW_recipes.nutrition7.str.replace(']', '')\n",
    "\n",
    "# nb of calories\n",
    "print(pd.to_numeric(RAW_recipes.nutrition1).describe())\n",
    "plt.boxplot(pd.to_numeric(RAW_recipes.nutrition1),vert=False)\n",
    "plt.title('Nb of calories')\n",
    "\n",
    "# % daily value total fat\n",
    "print(pd.to_numeric(RAW_recipes.nutrition2).describe())\n",
    "plt.boxplot(pd.to_numeric(RAW_recipes.nutrition2),vert=False)\n",
    "plt.title('% daily value total fat')\n",
    "\n",
    "# % daily value sugars\n",
    "print(pd.to_numeric(RAW_recipes.nutrition3).describe())\n",
    "plt.boxplot(pd.to_numeric(RAW_recipes.nutrition3),vert=False)\n",
    "plt.title('% daily value sugars')\n",
    "\n",
    "# % daily value sodium\n",
    "print(pd.to_numeric(RAW_recipes.nutrition4).describe())\n",
    "plt.boxplot(pd.to_numeric(RAW_recipes.nutrition4),vert=False)\n",
    "plt.title('% daily value sodium')\n",
    "\n",
    "# % daily value protein\n",
    "print(pd.to_numeric(RAW_recipes.nutrition5).describe())\n",
    "plt.boxplot(pd.to_numeric(RAW_recipes.nutrition5),vert=False)\n",
    "plt.title('% daily value protein')\n",
    "\n",
    "# % daily value saturated fat\n",
    "print(pd.to_numeric(RAW_recipes.nutrition6).describe())\n",
    "plt.boxplot(pd.to_numeric(RAW_recipes.nutrition6),vert=False)\n",
    "plt.title('% daily value saturated fat')\n",
    "\n",
    "# % daily value total carbohydrate\n",
    "print(pd.to_numeric(RAW_recipes.nutrition7).describe())\n",
    "plt.boxplot(pd.to_numeric(RAW_recipes.nutrition7),vert=False)\n",
    "plt.title('% daily value total carbohydrate')\n",
    "\n",
    "# cleaning to do\n",
    "# probably only 1st column to keep\n",
    "\n"
   ]
  },
  {
   "cell_type": "code",
   "execution_count": 254,
   "metadata": {},
   "outputs": [
    {
     "name": "stdout",
     "output_type": "stream",
     "text": [
      "94\n",
      "count       94.000000\n",
      "mean      2464.223404\n",
      "std       5326.894014\n",
      "min          1.000000\n",
      "25%          2.250000\n",
      "50%         29.000000\n",
      "75%       1077.500000\n",
      "max      20785.000000\n",
      "dtype: float64\n"
     ]
    },
    {
     "data": {
      "text/plain": [
       "Text(0.5, 1.0, 'Number of steps')"
      ]
     },
     "execution_count": 254,
     "metadata": {},
     "output_type": "execute_result"
    },
    {
     "data": {
      "image/png": "[encoded data removed]",
      "text/plain": [
       "<Figure size 1800x360 with 1 Axes>"
      ]
     },
     "metadata": {
      "needs_background": "light"
     },
     "output_type": "display_data"
    }
   ],
   "source": [
    "# n_steps (number of steps to mke the recipe)\n",
    "print(RAW_recipes['n_steps'].nunique())\n",
    "\n",
    "RAWrecipes_group = RAW_recipes.groupby('n_steps')\n",
    "print(RAWrecipes_group.size().describe())\n",
    "#my_plot = RAWrecipes_group.size().plot(kind='bar',legend=None,title=\"Number of recipes per number of steps\",color='darkred')\n",
    "\n",
    "#my_plot.set_xlabel(\"Number of steps\")\n",
    "#my_plot.set_ylabel(\"Number of recipes\")\n",
    "#my_plot.tick_params(axis='x', labelrotation=0)\n",
    "\n",
    "plt.boxplot(RAW_recipes.n_steps,vert=False)\n",
    "plt.title('Number of steps')\n"
   ]
  },
  {
   "cell_type": "code",
   "execution_count": 255,
   "metadata": {},
   "outputs": [
    {
     "name": "stdout",
     "output_type": "stream",
     "text": [
      "231074\n"
     ]
    }
   ],
   "source": [
    "# steps (name of the steps)\n",
    "print(RAW_recipes['steps'].nunique())\n",
    "\n"
   ]
  },
  {
   "cell_type": "code",
   "execution_count": 256,
   "metadata": {},
   "outputs": [
    {
     "name": "stdout",
     "output_type": "stream",
     "text": [
      "222668\n"
     ]
    }
   ],
   "source": [
    "# description\n",
    "print(RAW_recipes['description'].nunique())\n",
    "\n"
   ]
  },
  {
   "cell_type": "code",
   "execution_count": 257,
   "metadata": {},
   "outputs": [
    {
     "name": "stdout",
     "output_type": "stream",
     "text": [
      "230475\n"
     ]
    }
   ],
   "source": [
    "# ingredients\n",
    "print(RAW_recipes['ingredients'].nunique())\n",
    "\n",
    "# gather all of them into 1 list to get a counting per ingredients"
   ]
  },
  {
   "cell_type": "code",
   "execution_count": 258,
   "metadata": {
    "scrolled": true
   },
   "outputs": [
    {
     "name": "stdout",
     "output_type": "stream",
     "text": [
      "41\n"
     ]
    },
    {
     "data": {
      "image/png": "[encoded data removed]",
      "text/plain": [
       "<Figure size 1800x360 with 1 Axes>"
      ]
     },
     "metadata": {
      "needs_background": "light"
     },
     "output_type": "display_data"
    }
   ],
   "source": [
    "# n_ingredients\n",
    "print(RAW_recipes['n_ingredients'].nunique())\n",
    "\n",
    "RAWrecipes_group = RAW_recipes.groupby('n_ingredients')\n",
    "my_plot = RAWrecipes_group.size().plot(kind='bar',legend=None,title=\"Number of recipes per number of ingredients\",color='darkred')\n",
    "\n",
    "my_plot.set_xlabel(\"Number of ingredients\")\n",
    "my_plot.set_ylabel(\"Number of recipes\")\n",
    "my_plot.tick_params(axis='x', labelrotation=0)\n"
   ]
  },
  {
   "cell_type": "markdown",
   "metadata": {},
   "source": [
    "#### Dataset PP_recipes"
   ]
  },
  {
   "cell_type": "code",
   "execution_count": 307,
   "metadata": {},
   "outputs": [
    {
     "name": "stdout",
     "output_type": "stream",
     "text": [
      "(178265, 8)\n",
      "id                   0\n",
      "i                    0\n",
      "name_tokens          0\n",
      "ingredient_tokens    0\n",
      "steps_tokens         0\n",
      "techniques           0\n",
      "calorie_level        0\n",
      "ingredient_ids       0\n",
      "dtype: int64\n"
     ]
    },
    {
     "data": {
      "text/html": [
       "<div>\n",
       "<style scoped>\n",
       "    .dataframe tbody tr th:only-of-type {\n",
       "        vertical-align: middle;\n",
       "    }\n",
       "\n",
       "    .dataframe tbody tr th {\n",
       "        vertical-align: top;\n",
       "    }\n",
       "\n",
       "    .dataframe thead th {\n",
       "        text-align: right;\n",
       "    }\n",
       "</style>\n",
       "<table border=\"1\" class=\"dataframe\">\n",
       "  <thead>\n",
       "    <tr style=\"text-align: right;\">\n",
       "      <th></th>\n",
       "      <th>id</th>\n",
       "      <th>i</th>\n",
       "      <th>name_tokens</th>\n",
       "      <th>ingredient_tokens</th>\n",
       "      <th>steps_tokens</th>\n",
       "      <th>techniques</th>\n",
       "      <th>calorie_level</th>\n",
       "      <th>ingredient_ids</th>\n",
       "    </tr>\n",
       "  </thead>\n",
       "  <tbody>\n",
       "    <tr>\n",
       "      <td>0</td>\n",
       "      <td>424415</td>\n",
       "      <td>23</td>\n",
       "      <td>[40480, 37229, 2911, 1019, 249, 6878, 6878, 28...</td>\n",
       "      <td>[[2911, 1019, 249, 6878], [1353], [6953], [153...</td>\n",
       "      <td>[40480, 40482, 21662, 481, 6878, 500, 246, 161...</td>\n",
       "      <td>[0, 0, 0, 0, 0, 0, 0, 0, 0, 1, 0, 0, 0, 0, 0, ...</td>\n",
       "      <td>0</td>\n",
       "      <td>[389, 7655, 6270, 1527, 3406]</td>\n",
       "    </tr>\n",
       "    <tr>\n",
       "      <td>1</td>\n",
       "      <td>146223</td>\n",
       "      <td>96900</td>\n",
       "      <td>[40480, 18376, 7056, 246, 1531, 2032, 40481]</td>\n",
       "      <td>[[17918], [25916], [2507, 6444], [8467, 1179],...</td>\n",
       "      <td>[40480, 40482, 729, 2525, 10906, 485, 43, 8393...</td>\n",
       "      <td>[1, 0, 0, 0, 0, 0, 0, 0, 0, 1, 0, 0, 0, 0, 0, ...</td>\n",
       "      <td>0</td>\n",
       "      <td>[2683, 4969, 800, 5298, 840, 2499, 6632, 7022,...</td>\n",
       "    </tr>\n",
       "    <tr>\n",
       "      <td>2</td>\n",
       "      <td>312329</td>\n",
       "      <td>120056</td>\n",
       "      <td>[40480, 21044, 16954, 8294, 556, 10837, 40481]</td>\n",
       "      <td>[[5867, 24176], [1353], [6953], [1301, 11332],...</td>\n",
       "      <td>[40480, 40482, 8240, 481, 24176, 296, 1353, 66...</td>\n",
       "      <td>[0, 0, 0, 0, 1, 0, 0, 0, 0, 0, 0, 1, 0, 0, 0, ...</td>\n",
       "      <td>1</td>\n",
       "      <td>[1257, 7655, 6270, 590, 5024, 1119, 4883, 6696...</td>\n",
       "    </tr>\n",
       "    <tr>\n",
       "      <td>3</td>\n",
       "      <td>74301</td>\n",
       "      <td>168258</td>\n",
       "      <td>[40480, 10025, 31156, 40481]</td>\n",
       "      <td>[[1270, 1645, 28447], [21601], [27952, 29471, ...</td>\n",
       "      <td>[40480, 40482, 5539, 21601, 1073, 903, 2324, 4...</td>\n",
       "      <td>[1, 0, 0, 0, 0, 0, 0, 0, 0, 0, 0, 0, 0, 0, 0, ...</td>\n",
       "      <td>0</td>\n",
       "      <td>[7940, 3609, 7060, 6265, 1170, 6654, 5003, 3561]</td>\n",
       "    </tr>\n",
       "    <tr>\n",
       "      <td>4</td>\n",
       "      <td>76272</td>\n",
       "      <td>109030</td>\n",
       "      <td>[40480, 17841, 252, 782, 2373, 1641, 2373, 252...</td>\n",
       "      <td>[[1430, 11434], [1430, 17027], [1615, 23, 695,...</td>\n",
       "      <td>[40480, 40482, 14046, 1430, 11434, 488, 17027,...</td>\n",
       "      <td>[0, 0, 0, 0, 0, 0, 0, 0, 0, 1, 0, 0, 0, 0, 0, ...</td>\n",
       "      <td>0</td>\n",
       "      <td>[3484, 6324, 7594, 243]</td>\n",
       "    </tr>\n",
       "  </tbody>\n",
       "</table>\n",
       "</div>"
      ],
      "text/plain": [
       "       id       i                                        name_tokens  \\\n",
       "0  424415      23  [40480, 37229, 2911, 1019, 249, 6878, 6878, 28...   \n",
       "1  146223   96900       [40480, 18376, 7056, 246, 1531, 2032, 40481]   \n",
       "2  312329  120056     [40480, 21044, 16954, 8294, 556, 10837, 40481]   \n",
       "3   74301  168258                       [40480, 10025, 31156, 40481]   \n",
       "4   76272  109030  [40480, 17841, 252, 782, 2373, 1641, 2373, 252...   \n",
       "\n",
       "                                   ingredient_tokens  \\\n",
       "0  [[2911, 1019, 249, 6878], [1353], [6953], [153...   \n",
       "1  [[17918], [25916], [2507, 6444], [8467, 1179],...   \n",
       "2  [[5867, 24176], [1353], [6953], [1301, 11332],...   \n",
       "3  [[1270, 1645, 28447], [21601], [27952, 29471, ...   \n",
       "4  [[1430, 11434], [1430, 17027], [1615, 23, 695,...   \n",
       "\n",
       "                                        steps_tokens  \\\n",
       "0  [40480, 40482, 21662, 481, 6878, 500, 246, 161...   \n",
       "1  [40480, 40482, 729, 2525, 10906, 485, 43, 8393...   \n",
       "2  [40480, 40482, 8240, 481, 24176, 296, 1353, 66...   \n",
       "3  [40480, 40482, 5539, 21601, 1073, 903, 2324, 4...   \n",
       "4  [40480, 40482, 14046, 1430, 11434, 488, 17027,...   \n",
       "\n",
       "                                          techniques  calorie_level  \\\n",
       "0  [0, 0, 0, 0, 0, 0, 0, 0, 0, 1, 0, 0, 0, 0, 0, ...              0   \n",
       "1  [1, 0, 0, 0, 0, 0, 0, 0, 0, 1, 0, 0, 0, 0, 0, ...              0   \n",
       "2  [0, 0, 0, 0, 1, 0, 0, 0, 0, 0, 0, 1, 0, 0, 0, ...              1   \n",
       "3  [1, 0, 0, 0, 0, 0, 0, 0, 0, 0, 0, 0, 0, 0, 0, ...              0   \n",
       "4  [0, 0, 0, 0, 0, 0, 0, 0, 0, 1, 0, 0, 0, 0, 0, ...              0   \n",
       "\n",
       "                                      ingredient_ids  \n",
       "0                      [389, 7655, 6270, 1527, 3406]  \n",
       "1  [2683, 4969, 800, 5298, 840, 2499, 6632, 7022,...  \n",
       "2  [1257, 7655, 6270, 590, 5024, 1119, 4883, 6696...  \n",
       "3   [7940, 3609, 7060, 6265, 1170, 6654, 5003, 3561]  \n",
       "4                            [3484, 6324, 7594, 243]  "
      ]
     },
     "execution_count": 307,
     "metadata": {},
     "output_type": "execute_result"
    }
   ],
   "source": [
    "# Import the data PP_recipes\n",
    "PP_recipes = pd.read_csv(\"C:/Users/U597910/Downloads/recommender_system/PP_recipes.csv\")\n",
    "# Dimensions of our dataframe\n",
    "print(PP_recipes.shape)\n",
    "# missing values (nothing missing)\n",
    "print(PP_recipes.isnull().sum())\n",
    "# 5 first rows of the dataframe\n",
    "PP_recipes.head()"
   ]
  },
  {
   "cell_type": "code",
   "execution_count": 277,
   "metadata": {},
   "outputs": [
    {
     "name": "stdout",
     "output_type": "stream",
     "text": [
      "178265\n"
     ]
    }
   ],
   "source": [
    "# id of the recipe (linked with id of the table RAW_recipes)\n",
    "print(PP_recipes['id'].nunique())\n",
    "\n",
    "\n",
    "#print(RAW_recipes[RAW_recipes['id']==424415])"
   ]
  },
  {
   "cell_type": "code",
   "execution_count": 264,
   "metadata": {},
   "outputs": [
    {
     "name": "stdout",
     "output_type": "stream",
     "text": [
      "178265\n"
     ]
    }
   ],
   "source": [
    "# i of the recipe\n",
    "print(PP_recipes['i'].nunique())\n",
    "\n",
    "# not sure of the use of this variable"
   ]
  },
  {
   "cell_type": "code",
   "execution_count": 265,
   "metadata": {},
   "outputs": [
    {
     "name": "stdout",
     "output_type": "stream",
     "text": [
      "176694\n"
     ]
    }
   ],
   "source": [
    "# name_tokens\n",
    "print(PP_recipes['name_tokens'].nunique())\n",
    "\n",
    "#not sure how to use it"
   ]
  },
  {
   "cell_type": "code",
   "execution_count": null,
   "metadata": {},
   "outputs": [],
   "source": [
    "# ingredient_tokens\n",
    "print(PP_recipes['ingredient_tokens'].nunique())\n",
    "\n",
    "#not sure how to use it"
   ]
  },
  {
   "cell_type": "code",
   "execution_count": null,
   "metadata": {},
   "outputs": [],
   "source": [
    "# steps_tokens\n",
    "print(PP_recipes['steps_tokens'].nunique())\n",
    "\n",
    "#not sure how to use it"
   ]
  },
  {
   "cell_type": "code",
   "execution_count": null,
   "metadata": {},
   "outputs": [],
   "source": [
    "# techniques\n",
    "print(PP_recipes['techniques'].nunique())\n",
    "\n",
    "#not sure how to use it"
   ]
  },
  {
   "cell_type": "code",
   "execution_count": 269,
   "metadata": {},
   "outputs": [
    {
     "name": "stdout",
     "output_type": "stream",
     "text": [
      "3\n",
      "calorie_level\n",
      "0    69699\n",
      "1    63255\n",
      "2    45311\n",
      "dtype: int64\n"
     ]
    },
    {
     "data": {
      "image/png": "[encoded data removed]",
      "text/plain": [
       "<Figure size 1800x360 with 1 Axes>"
      ]
     },
     "metadata": {
      "needs_background": "light"
     },
     "output_type": "display_data"
    }
   ],
   "source": [
    "# calorie_level\n",
    "print(PP_recipes['calorie_level'].nunique())\n",
    "\n",
    "calorie_group = PP_recipes.groupby('calorie_level')\n",
    "print(calorie_group.size())\n",
    "my_plot = calorie_group.size().plot(kind='bar',legend=None,title=\"Number of recipes per calorie level\",color='darkred')\n",
    "\n",
    "my_plot.set_xlabel(\"Calorie level\")\n",
    "my_plot.set_ylabel(\"Number of recipes\")\n",
    "my_plot.tick_params(axis='x', labelrotation=0)\n",
    "\n",
    "# do a merge with RAW_recipes to get the number of calories for elvel 0, 1 and 2"
   ]
  },
  {
   "cell_type": "code",
   "execution_count": 270,
   "metadata": {},
   "outputs": [
    {
     "name": "stdout",
     "output_type": "stream",
     "text": [
      "177524\n"
     ]
    }
   ],
   "source": [
    "# ingredient_ids\n",
    "print(PP_recipes['ingredient_ids'].nunique())\n"
   ]
  },
  {
   "cell_type": "markdown",
   "metadata": {},
   "source": [
    "#### Dataset PP_users"
   ]
  },
  {
   "cell_type": "code",
   "execution_count": 308,
   "metadata": {},
   "outputs": [
    {
     "name": "stdout",
     "output_type": "stream",
     "text": [
      "(25076, 6)\n",
      "u             0\n",
      "techniques    0\n",
      "items         0\n",
      "n_items       0\n",
      "ratings       0\n",
      "n_ratings     0\n",
      "dtype: int64\n"
     ]
    },
    {
     "data": {
      "text/html": [
       "<div>\n",
       "<style scoped>\n",
       "    .dataframe tbody tr th:only-of-type {\n",
       "        vertical-align: middle;\n",
       "    }\n",
       "\n",
       "    .dataframe tbody tr th {\n",
       "        vertical-align: top;\n",
       "    }\n",
       "\n",
       "    .dataframe thead th {\n",
       "        text-align: right;\n",
       "    }\n",
       "</style>\n",
       "<table border=\"1\" class=\"dataframe\">\n",
       "  <thead>\n",
       "    <tr style=\"text-align: right;\">\n",
       "      <th></th>\n",
       "      <th>u</th>\n",
       "      <th>techniques</th>\n",
       "      <th>items</th>\n",
       "      <th>n_items</th>\n",
       "      <th>ratings</th>\n",
       "      <th>n_ratings</th>\n",
       "    </tr>\n",
       "  </thead>\n",
       "  <tbody>\n",
       "    <tr>\n",
       "      <td>0</td>\n",
       "      <td>0</td>\n",
       "      <td>[8, 0, 0, 5, 6, 0, 0, 1, 0, 9, 1, 0, 0, 0, 1, ...</td>\n",
       "      <td>[1118, 27680, 32541, 137353, 16428, 28815, 658...</td>\n",
       "      <td>31</td>\n",
       "      <td>[5.0, 5.0, 5.0, 5.0, 5.0, 5.0, 5.0, 4.0, 4.0, ...</td>\n",
       "      <td>31</td>\n",
       "    </tr>\n",
       "    <tr>\n",
       "      <td>1</td>\n",
       "      <td>1</td>\n",
       "      <td>[11, 0, 0, 2, 12, 0, 0, 0, 0, 14, 5, 0, 0, 0, ...</td>\n",
       "      <td>[122140, 77036, 156817, 76957, 68818, 155600, ...</td>\n",
       "      <td>39</td>\n",
       "      <td>[5.0, 5.0, 5.0, 5.0, 5.0, 5.0, 5.0, 5.0, 5.0, ...</td>\n",
       "      <td>39</td>\n",
       "    </tr>\n",
       "    <tr>\n",
       "      <td>2</td>\n",
       "      <td>2</td>\n",
       "      <td>[13, 0, 0, 7, 5, 0, 1, 2, 1, 11, 0, 1, 0, 0, 1...</td>\n",
       "      <td>[168054, 87218, 35731, 1, 20475, 9039, 124834,...</td>\n",
       "      <td>27</td>\n",
       "      <td>[3.0, 4.0, 4.0, 4.0, 4.0, 4.0, 4.0, 4.0, 5.0, ...</td>\n",
       "      <td>27</td>\n",
       "    </tr>\n",
       "    <tr>\n",
       "      <td>3</td>\n",
       "      <td>3</td>\n",
       "      <td>[498, 13, 4, 218, 376, 3, 2, 33, 16, 591, 10, ...</td>\n",
       "      <td>[163193, 156352, 102888, 19914, 169438, 55772,...</td>\n",
       "      <td>1513</td>\n",
       "      <td>[5.0, 5.0, 5.0, 5.0, 4.0, 4.0, 5.0, 5.0, 5.0, ...</td>\n",
       "      <td>1513</td>\n",
       "    </tr>\n",
       "    <tr>\n",
       "      <td>4</td>\n",
       "      <td>4</td>\n",
       "      <td>[161, 1, 1, 86, 93, 0, 0, 11, 2, 141, 0, 16, 0...</td>\n",
       "      <td>[72857, 38652, 160427, 55772, 119999, 141777, ...</td>\n",
       "      <td>376</td>\n",
       "      <td>[5.0, 5.0, 5.0, 5.0, 4.0, 4.0, 5.0, 4.0, 5.0, ...</td>\n",
       "      <td>376</td>\n",
       "    </tr>\n",
       "  </tbody>\n",
       "</table>\n",
       "</div>"
      ],
      "text/plain": [
       "   u                                         techniques  \\\n",
       "0  0  [8, 0, 0, 5, 6, 0, 0, 1, 0, 9, 1, 0, 0, 0, 1, ...   \n",
       "1  1  [11, 0, 0, 2, 12, 0, 0, 0, 0, 14, 5, 0, 0, 0, ...   \n",
       "2  2  [13, 0, 0, 7, 5, 0, 1, 2, 1, 11, 0, 1, 0, 0, 1...   \n",
       "3  3  [498, 13, 4, 218, 376, 3, 2, 33, 16, 591, 10, ...   \n",
       "4  4  [161, 1, 1, 86, 93, 0, 0, 11, 2, 141, 0, 16, 0...   \n",
       "\n",
       "                                               items  n_items  \\\n",
       "0  [1118, 27680, 32541, 137353, 16428, 28815, 658...       31   \n",
       "1  [122140, 77036, 156817, 76957, 68818, 155600, ...       39   \n",
       "2  [168054, 87218, 35731, 1, 20475, 9039, 124834,...       27   \n",
       "3  [163193, 156352, 102888, 19914, 169438, 55772,...     1513   \n",
       "4  [72857, 38652, 160427, 55772, 119999, 141777, ...      376   \n",
       "\n",
       "                                             ratings  n_ratings  \n",
       "0  [5.0, 5.0, 5.0, 5.0, 5.0, 5.0, 5.0, 4.0, 4.0, ...         31  \n",
       "1  [5.0, 5.0, 5.0, 5.0, 5.0, 5.0, 5.0, 5.0, 5.0, ...         39  \n",
       "2  [3.0, 4.0, 4.0, 4.0, 4.0, 4.0, 4.0, 4.0, 5.0, ...         27  \n",
       "3  [5.0, 5.0, 5.0, 5.0, 4.0, 4.0, 5.0, 5.0, 5.0, ...       1513  \n",
       "4  [5.0, 5.0, 5.0, 5.0, 4.0, 4.0, 5.0, 4.0, 5.0, ...        376  "
      ]
     },
     "execution_count": 308,
     "metadata": {},
     "output_type": "execute_result"
    }
   ],
   "source": [
    "# Import the data PP_users\n",
    "PP_users = pd.read_csv(\"C:/Users/U597910/Downloads/recommender_system/PP_users.csv\")\n",
    "# Dimensions of our dataframe\n",
    "print(PP_users.shape)\n",
    "# missing values (nothing missing)\n",
    "print(PP_users.isnull().sum())\n",
    "# 5 first rows of the dataframe\n",
    "PP_users.head()"
   ]
  },
  {
   "cell_type": "code",
   "execution_count": 281,
   "metadata": {},
   "outputs": [
    {
     "name": "stdout",
     "output_type": "stream",
     "text": [
      "25076\n"
     ]
    }
   ],
   "source": [
    "# u (id of the user)\n",
    "print(PP_users['u'].nunique())\n"
   ]
  },
  {
   "cell_type": "code",
   "execution_count": 282,
   "metadata": {},
   "outputs": [
    {
     "name": "stdout",
     "output_type": "stream",
     "text": [
      "24609\n"
     ]
    }
   ],
   "source": [
    "# techniques\n",
    "print(PP_users['techniques'].nunique())\n"
   ]
  },
  {
   "cell_type": "code",
   "execution_count": 303,
   "metadata": {},
   "outputs": [
    {
     "name": "stdout",
     "output_type": "stream",
     "text": [
      "25066\n",
      "[False]\n"
     ]
    }
   ],
   "source": [
    "# items\n",
    "PP_users = PP_users.rename(columns={'items': 'item'})\n",
    "print(PP_users['item'].nunique())\n",
    "\n"
   ]
  },
  {
   "cell_type": "code",
   "execution_count": 284,
   "metadata": {},
   "outputs": [
    {
     "name": "stdout",
     "output_type": "stream",
     "text": [
      "576\n",
      "[ True]\n",
      "[False  True]\n"
     ]
    }
   ],
   "source": [
    "# n_items\n",
    "print(PP_users['n_items'].nunique())\n",
    "print((PP_users.item.str.split(\",\").str.len()==PP_users.n_items).unique())\n",
    "\n",
    "print((PP_users.techniques.str.split(\",\").str.len()==PP_users.n_items).unique())\n",
    "# number of techniques is not equal to number of items"
   ]
  },
  {
   "cell_type": "code",
   "execution_count": 285,
   "metadata": {},
   "outputs": [
    {
     "name": "stdout",
     "output_type": "stream",
     "text": [
      "10754\n"
     ]
    }
   ],
   "source": [
    "# ratings\n",
    "print(PP_users['ratings'].nunique())\n"
   ]
  },
  {
   "cell_type": "code",
   "execution_count": 288,
   "metadata": {},
   "outputs": [
    {
     "name": "stdout",
     "output_type": "stream",
     "text": [
      "576\n",
      "[ True]\n",
      "[ True]\n",
      "count    25076.000000\n",
      "mean        27.871311\n",
      "std        122.729039\n",
      "min          2.000000\n",
      "25%          3.000000\n",
      "50%          6.000000\n",
      "75%         16.000000\n",
      "max       6437.000000\n",
      "Name: n_ratings, dtype: float64\n"
     ]
    },
    {
     "data": {
      "text/plain": [
       "{'whiskers': [<matplotlib.lines.Line2D at 0x1c1ad736c88>,\n",
       "  <matplotlib.lines.Line2D at 0x1c1a0e3c088>],\n",
       " 'caps': [<matplotlib.lines.Line2D at 0x1c1a30c1388>,\n",
       "  <matplotlib.lines.Line2D at 0x1bfed24c948>],\n",
       " 'boxes': [<matplotlib.lines.Line2D at 0x1c19ea69748>],\n",
       " 'medians': [<matplotlib.lines.Line2D at 0x1c1a66a6108>],\n",
       " 'fliers': [<matplotlib.lines.Line2D at 0x1c1a66a6048>],\n",
       " 'means': []}"
      ]
     },
     "execution_count": 288,
     "metadata": {},
     "output_type": "execute_result"
    },
    {
     "data": {
      "image/png": "[encoded data removed]",
      "text/plain": [
       "<Figure size 1800x360 with 1 Axes>"
      ]
     },
     "metadata": {
      "needs_background": "light"
     },
     "output_type": "display_data"
    }
   ],
   "source": [
    "# n_ratings\n",
    "print(PP_users['n_ratings'].nunique())\n",
    "\n",
    "print((PP_users.ratings.str.split(\",\").str.len()==PP_users.n_ratings).unique())\n",
    "# number of ratings is well the number of ratings\n",
    "\n",
    "print((PP_users.n_ratings==PP_users.n_items).unique())\n",
    "# number of ratings and of items are the same\n",
    "\n",
    "print(PP_users.n_ratings.describe()) \n",
    "plt.boxplot(PP_users.n_ratings,vert=False)\n",
    "# to do data cleaning"
   ]
  },
  {
   "cell_type": "markdown",
   "metadata": {},
   "source": [
    "#### Dataset RAW_interactions"
   ]
  },
  {
   "cell_type": "code",
   "execution_count": 310,
   "metadata": {},
   "outputs": [
    {
     "name": "stdout",
     "output_type": "stream",
     "text": [
      "(1132367, 5)\n",
      "user_id        0\n",
      "recipe_id      0\n",
      "date           0\n",
      "rating         0\n",
      "review       169\n",
      "dtype: int64\n"
     ]
    },
    {
     "data": {
      "text/html": [
       "<div>\n",
       "<style scoped>\n",
       "    .dataframe tbody tr th:only-of-type {\n",
       "        vertical-align: middle;\n",
       "    }\n",
       "\n",
       "    .dataframe tbody tr th {\n",
       "        vertical-align: top;\n",
       "    }\n",
       "\n",
       "    .dataframe thead th {\n",
       "        text-align: right;\n",
       "    }\n",
       "</style>\n",
       "<table border=\"1\" class=\"dataframe\">\n",
       "  <thead>\n",
       "    <tr style=\"text-align: right;\">\n",
       "      <th></th>\n",
       "      <th>user_id</th>\n",
       "      <th>recipe_id</th>\n",
       "      <th>date</th>\n",
       "      <th>rating</th>\n",
       "      <th>review</th>\n",
       "    </tr>\n",
       "  </thead>\n",
       "  <tbody>\n",
       "    <tr>\n",
       "      <td>0</td>\n",
       "      <td>38094</td>\n",
       "      <td>40893</td>\n",
       "      <td>2003-02-17</td>\n",
       "      <td>4</td>\n",
       "      <td>Great with a salad. Cooked on top of stove for...</td>\n",
       "    </tr>\n",
       "    <tr>\n",
       "      <td>1</td>\n",
       "      <td>1293707</td>\n",
       "      <td>40893</td>\n",
       "      <td>2011-12-21</td>\n",
       "      <td>5</td>\n",
       "      <td>So simple, so delicious! Great for chilly fall...</td>\n",
       "    </tr>\n",
       "    <tr>\n",
       "      <td>2</td>\n",
       "      <td>8937</td>\n",
       "      <td>44394</td>\n",
       "      <td>2002-12-01</td>\n",
       "      <td>4</td>\n",
       "      <td>This worked very well and is EASY.  I used not...</td>\n",
       "    </tr>\n",
       "    <tr>\n",
       "      <td>3</td>\n",
       "      <td>126440</td>\n",
       "      <td>85009</td>\n",
       "      <td>2010-02-27</td>\n",
       "      <td>5</td>\n",
       "      <td>I made the Mexican topping and took it to bunk...</td>\n",
       "    </tr>\n",
       "    <tr>\n",
       "      <td>4</td>\n",
       "      <td>57222</td>\n",
       "      <td>85009</td>\n",
       "      <td>2011-10-01</td>\n",
       "      <td>5</td>\n",
       "      <td>Made the cheddar bacon topping, adding a sprin...</td>\n",
       "    </tr>\n",
       "  </tbody>\n",
       "</table>\n",
       "</div>"
      ],
      "text/plain": [
       "   user_id  recipe_id        date  rating  \\\n",
       "0    38094      40893  2003-02-17       4   \n",
       "1  1293707      40893  2011-12-21       5   \n",
       "2     8937      44394  2002-12-01       4   \n",
       "3   126440      85009  2010-02-27       5   \n",
       "4    57222      85009  2011-10-01       5   \n",
       "\n",
       "                                              review  \n",
       "0  Great with a salad. Cooked on top of stove for...  \n",
       "1  So simple, so delicious! Great for chilly fall...  \n",
       "2  This worked very well and is EASY.  I used not...  \n",
       "3  I made the Mexican topping and took it to bunk...  \n",
       "4  Made the cheddar bacon topping, adding a sprin...  "
      ]
     },
     "execution_count": 310,
     "metadata": {},
     "output_type": "execute_result"
    }
   ],
   "source": [
    "# Import the data RAW_interactions\n",
    "RAW_interactions = pd.read_csv(\"C:/Users/U597910/Downloads/recommender_system/RAW_interactions.csv\")\n",
    "# Dimensions of our dataframe\n",
    "print(RAW_interactions.shape)\n",
    "# missing values (a few reviews, not too bad)\n",
    "print(RAW_interactions.isnull().sum())\n",
    "# 5 first rows of the dataframe\n",
    "RAW_interactions.head()"
   ]
  },
  {
   "cell_type": "code",
   "execution_count": 290,
   "metadata": {
    "scrolled": true
   },
   "outputs": [
    {
     "name": "stdout",
     "output_type": "stream",
     "text": [
      "226570\n",
      "count    226570.000000\n",
      "mean          4.997868\n",
      "std          49.663111\n",
      "min           1.000000\n",
      "25%           1.000000\n",
      "50%           1.000000\n",
      "75%           2.000000\n",
      "max        7671.000000\n",
      "dtype: float64\n"
     ]
    },
    {
     "data": {
      "text/plain": [
       "{'whiskers': [<matplotlib.lines.Line2D at 0x1c16cdd3348>,\n",
       "  <matplotlib.lines.Line2D at 0x1c16b7ad988>],\n",
       " 'caps': [<matplotlib.lines.Line2D at 0x1c16bd28308>,\n",
       "  <matplotlib.lines.Line2D at 0x1c195097c48>],\n",
       " 'boxes': [<matplotlib.lines.Line2D at 0x1c16c7d61c8>],\n",
       " 'medians': [<matplotlib.lines.Line2D at 0x1c19574fa08>],\n",
       " 'fliers': [<matplotlib.lines.Line2D at 0x1c1969792c8>],\n",
       " 'means': []}"
      ]
     },
     "execution_count": 290,
     "metadata": {},
     "output_type": "execute_result"
    },
    {
     "data": {
      "image/png": "[encoded data removed]",
      "text/plain": [
       "<Figure size 1800x360 with 1 Axes>"
      ]
     },
     "metadata": {
      "needs_background": "light"
     },
     "output_type": "display_data"
    }
   ],
   "source": [
    "# user_id\n",
    "print(RAW_interactions['user_id'].nunique())\n",
    "\n",
    "RAWinteractions_group = RAW_interactions.groupby('user_id')\n",
    "print(RAWinteractions_group.size().describe())\n",
    "plt.boxplot(RAWinteractions_group.size(),vert=False)\n"
   ]
  },
  {
   "cell_type": "code",
   "execution_count": 291,
   "metadata": {},
   "outputs": [
    {
     "name": "stdout",
     "output_type": "stream",
     "text": [
      "231637\n",
      "count    231637.000000\n",
      "mean          4.888541\n",
      "std          17.532481\n",
      "min           1.000000\n",
      "25%           1.000000\n",
      "50%           2.000000\n",
      "75%           4.000000\n",
      "max        1613.000000\n",
      "dtype: float64\n"
     ]
    },
    {
     "data": {
      "text/plain": [
       "{'whiskers': [<matplotlib.lines.Line2D at 0x1c1a7218488>,\n",
       "  <matplotlib.lines.Line2D at 0x1c1a5cb2708>],\n",
       " 'caps': [<matplotlib.lines.Line2D at 0x1c1a6469508>,\n",
       "  <matplotlib.lines.Line2D at 0x1c1a4e44b48>],\n",
       " 'boxes': [<matplotlib.lines.Line2D at 0x1c1a68e2e08>],\n",
       " 'medians': [<matplotlib.lines.Line2D at 0x1bff102d148>],\n",
       " 'fliers': [<matplotlib.lines.Line2D at 0x1bfb532cd08>],\n",
       " 'means': []}"
      ]
     },
     "execution_count": 291,
     "metadata": {},
     "output_type": "execute_result"
    },
    {
     "data": {
      "image/png": "[encoded data removed]",
      "text/plain": [
       "<Figure size 1800x360 with 1 Axes>"
      ]
     },
     "metadata": {
      "needs_background": "light"
     },
     "output_type": "display_data"
    }
   ],
   "source": [
    "# recipe_id\n",
    "print(RAW_interactions['recipe_id'].nunique())\n",
    "\n",
    "RAWinteractions_group = RAW_interactions.groupby('recipe_id')\n",
    "print(RAWinteractions_group.size().describe())\n",
    "plt.boxplot(RAWinteractions_group.size(),vert=False)\n"
   ]
  },
  {
   "cell_type": "code",
   "execution_count": 293,
   "metadata": {},
   "outputs": [
    {
     "name": "stdout",
     "output_type": "stream",
     "text": [
      "2000-01-25\n",
      "2018-12-20\n",
      "date\n",
      "2000-01-25     2\n",
      "2000-02-25     3\n",
      "2000-03-13     2\n",
      "2000-04-07     1\n",
      "2000-05-21     1\n",
      "              ..\n",
      "2018-12-16    43\n",
      "2018-12-17    30\n",
      "2018-12-18    31\n",
      "2018-12-19    17\n",
      "2018-12-20     1\n",
      "Length: 6396, dtype: int64\n"
     ]
    },
    {
     "data": {
      "image/png": "[encoded data removed]",
      "text/plain": [
       "<Figure size 1800x360 with 1 Axes>"
      ]
     },
     "metadata": {
      "needs_background": "light"
     },
     "output_type": "display_data"
    }
   ],
   "source": [
    "# date\n",
    "print(min(RAW_interactions.date))\n",
    "print(max(RAW_interactions.date))\n",
    "\n",
    "RAWinteractions_group = RAW_interactions.groupby('date')\n",
    "print(RAWinteractions_group.size())\n",
    "RAWinteractions_group.size().plot.line()\n",
    "plt.rcParams['figure.figsize'] = [25, 5]\n",
    "\n",
    "# to merge with real dates and redo the plot (because there are missing dates)\n",
    "# missing dates here -> put some dates to 0)"
   ]
  },
  {
   "cell_type": "code",
   "execution_count": 294,
   "metadata": {},
   "outputs": [
    {
     "data": {
      "image/png": "[encoded data removed]",
      "text/plain": [
       "<Figure size 1800x360 with 1 Axes>"
      ]
     },
     "metadata": {
      "needs_background": "light"
     },
     "output_type": "display_data"
    }
   ],
   "source": [
    "# rating\n",
    "RAWinteractions_group = RAW_interactions.groupby('rating')\n",
    "\n",
    "my_plot = RAWinteractions_group.size().plot(kind='bar',legend=None,title=\"Number of recipes per rating\",color='darkred')\n",
    "\n",
    "my_plot.set_xlabel(\"Rating\")\n",
    "my_plot.set_ylabel(\"Number of recipes\")\n",
    "my_plot.tick_params(axis='x', labelrotation=0)\n",
    "\n"
   ]
  },
  {
   "cell_type": "code",
   "execution_count": null,
   "metadata": {},
   "outputs": [],
   "source": [
    "# review"
   ]
  },
  {
   "cell_type": "markdown",
   "metadata": {},
   "source": [
    "#### Dataset interactions_train"
   ]
  },
  {
   "cell_type": "code",
   "execution_count": 312,
   "metadata": {},
   "outputs": [
    {
     "name": "stdout",
     "output_type": "stream",
     "text": [
      "(698901, 6)\n",
      "user_id      0\n",
      "recipe_id    0\n",
      "date         0\n",
      "rating       0\n",
      "u            0\n",
      "i            0\n",
      "dtype: int64\n"
     ]
    },
    {
     "data": {
      "text/html": [
       "<div>\n",
       "<style scoped>\n",
       "    .dataframe tbody tr th:only-of-type {\n",
       "        vertical-align: middle;\n",
       "    }\n",
       "\n",
       "    .dataframe tbody tr th {\n",
       "        vertical-align: top;\n",
       "    }\n",
       "\n",
       "    .dataframe thead th {\n",
       "        text-align: right;\n",
       "    }\n",
       "</style>\n",
       "<table border=\"1\" class=\"dataframe\">\n",
       "  <thead>\n",
       "    <tr style=\"text-align: right;\">\n",
       "      <th></th>\n",
       "      <th>user_id</th>\n",
       "      <th>recipe_id</th>\n",
       "      <th>date</th>\n",
       "      <th>rating</th>\n",
       "      <th>u</th>\n",
       "      <th>i</th>\n",
       "    </tr>\n",
       "  </thead>\n",
       "  <tbody>\n",
       "    <tr>\n",
       "      <td>0</td>\n",
       "      <td>2046</td>\n",
       "      <td>4684</td>\n",
       "      <td>2000-02-25</td>\n",
       "      <td>5.0</td>\n",
       "      <td>22095</td>\n",
       "      <td>44367</td>\n",
       "    </tr>\n",
       "    <tr>\n",
       "      <td>1</td>\n",
       "      <td>2046</td>\n",
       "      <td>517</td>\n",
       "      <td>2000-02-25</td>\n",
       "      <td>5.0</td>\n",
       "      <td>22095</td>\n",
       "      <td>87844</td>\n",
       "    </tr>\n",
       "    <tr>\n",
       "      <td>2</td>\n",
       "      <td>1773</td>\n",
       "      <td>7435</td>\n",
       "      <td>2000-03-13</td>\n",
       "      <td>5.0</td>\n",
       "      <td>24732</td>\n",
       "      <td>138181</td>\n",
       "    </tr>\n",
       "    <tr>\n",
       "      <td>3</td>\n",
       "      <td>1773</td>\n",
       "      <td>278</td>\n",
       "      <td>2000-03-13</td>\n",
       "      <td>4.0</td>\n",
       "      <td>24732</td>\n",
       "      <td>93054</td>\n",
       "    </tr>\n",
       "    <tr>\n",
       "      <td>4</td>\n",
       "      <td>2046</td>\n",
       "      <td>3431</td>\n",
       "      <td>2000-04-07</td>\n",
       "      <td>5.0</td>\n",
       "      <td>22095</td>\n",
       "      <td>101723</td>\n",
       "    </tr>\n",
       "  </tbody>\n",
       "</table>\n",
       "</div>"
      ],
      "text/plain": [
       "   user_id  recipe_id        date  rating      u       i\n",
       "0     2046       4684  2000-02-25     5.0  22095   44367\n",
       "1     2046        517  2000-02-25     5.0  22095   87844\n",
       "2     1773       7435  2000-03-13     5.0  24732  138181\n",
       "3     1773        278  2000-03-13     4.0  24732   93054\n",
       "4     2046       3431  2000-04-07     5.0  22095  101723"
      ]
     },
     "execution_count": 312,
     "metadata": {},
     "output_type": "execute_result"
    }
   ],
   "source": [
    "# Import the data interactions_train\n",
    "interactions_train = pd.read_csv(\"C:/Users/U597910/Downloads/recommender_system/interactions_train.csv\")\n",
    "# Dimensions of our dataframe\n",
    "print(interactions_train.shape)\n",
    "# missing values (nothing)\n",
    "print(interactions_train.isnull().sum())\n",
    "# 5 first rows of the dataframe\n",
    "interactions_train.head()"
   ]
  },
  {
   "cell_type": "code",
   "execution_count": 300,
   "metadata": {},
   "outputs": [
    {
     "name": "stdout",
     "output_type": "stream",
     "text": [
      "25076\n",
      "           recipe_id                                                     \\\n",
      "               count           mean            std       min        25%   \n",
      "user_id                                                                   \n",
      "1533           115.0   49015.452174   33892.654468    2137.0   24013.50   \n",
      "1535           649.0  122917.338983  104133.294513     834.0   46072.00   \n",
      "1634            48.0   45380.791667   55407.134982    3624.0   11912.25   \n",
      "1676            24.0  108432.125000   79687.021574     825.0   35979.00   \n",
      "1773             2.0    3856.500000    5060.763233     278.0    2067.25   \n",
      "...              ...            ...            ...       ...        ...   \n",
      "2002204415       2.0  235781.500000  294967.472452   27208.0  131494.75   \n",
      "2002214643       2.0  219807.000000  159390.353761  107101.0  163454.00   \n",
      "2002227190       3.0  205925.000000  108244.176236   86125.0  160541.50   \n",
      "2002254807       5.0   74256.800000   56834.647164   26849.0   27520.00   \n",
      "2002312797       2.0   59237.000000   45295.846189   27208.0   43222.50   \n",
      "\n",
      "                                          rating            ...        u  \\\n",
      "                 50%        75%       max  count      mean  ...      75%   \n",
      "user_id                                                     ...            \n",
      "1533         36896.0   70808.50  128641.0  115.0  4.747826  ...   4913.0   \n",
      "1535         97439.0  165219.00  516391.0  649.0  4.476117  ...   1431.0   \n",
      "1634         28319.5   44956.75  291770.0   48.0  3.875000  ...   7299.0   \n",
      "1676        106140.5  165827.50  288721.0   24.0  4.583333  ...   1775.0   \n",
      "1773          3856.5    5645.75    7435.0    2.0  4.500000  ...  24732.0   \n",
      "...              ...        ...       ...    ...       ...  ...      ...   \n",
      "2002204415  235781.5  340068.25  444355.0    2.0  4.500000  ...   6734.0   \n",
      "2002214643  219807.0  276160.00  332513.0    2.0  5.000000  ...  20986.0   \n",
      "2002227190  234958.0  265825.00  296692.0    3.0  3.666667  ...  17230.0   \n",
      "2002254807   45317.0  129615.00  141983.0    5.0  3.000000  ...  11624.0   \n",
      "2002312797   59237.0   75251.50   91266.0    2.0  4.500000  ...  14897.0   \n",
      "\n",
      "                         i                                                    \\\n",
      "                max  count           mean           std       min        25%   \n",
      "user_id                                                                        \n",
      "1533         4913.0  115.0   82162.713043  48565.754850    2233.0   41422.50   \n",
      "1535         1431.0  649.0   86233.015408  50374.441857     541.0   43057.00   \n",
      "1634         7299.0   48.0   92427.395833  44517.352160    4126.0   66636.75   \n",
      "1676         1775.0   24.0   92483.291667  46285.584962     685.0   59011.75   \n",
      "1773        24732.0    2.0  115617.500000  31909.607715   93054.0  104335.75   \n",
      "...             ...    ...            ...           ...       ...        ...   \n",
      "2002204415   6734.0    2.0   80349.000000  27489.483225   60911.0   70630.00   \n",
      "2002214643  20986.0    2.0  156112.500000  14427.099657  145911.0  151011.75   \n",
      "2002227190  17230.0    3.0  139808.666667  28281.101364  116553.0  124067.50   \n",
      "2002254807  11624.0    5.0   74598.600000  40413.134911   49659.0   49698.00   \n",
      "2002312797  14897.0    2.0  137711.500000  53633.342246   99787.0  118749.25   \n",
      "\n",
      "                                           \n",
      "                 50%        75%       max  \n",
      "user_id                                    \n",
      "1533         78172.0  123641.50  178090.0  \n",
      "1535         84749.0  129175.00  178034.0  \n",
      "1634        103527.5  123123.50  177124.0  \n",
      "1676        105449.5  122955.00  161043.0  \n",
      "1773        115617.5  126899.25  138181.0  \n",
      "...              ...        ...       ...  \n",
      "2002204415   80349.0   90068.00   99787.0  \n",
      "2002214643  156112.5  161213.25  166314.0  \n",
      "2002227190  131582.0  151436.50  171291.0  \n",
      "2002254807   63569.0   64311.00  145756.0  \n",
      "2002312797  137711.5  156673.75  175636.0  \n",
      "\n",
      "[25076 rows x 32 columns]\n"
     ]
    }
   ],
   "source": [
    "# user_id\n",
    "print(interactions_train['user_id'].nunique())\n",
    "\n",
    "userid_group = interactions_train.groupby('user_id')\n",
    "print(userid_group.describe())\n",
    "\n"
   ]
  },
  {
   "cell_type": "code",
   "execution_count": null,
   "metadata": {},
   "outputs": [],
   "source": [
    "# recipe_id\n",
    "print(interactions_train['recipe_id'].nunique())\n",
    "\n"
   ]
  },
  {
   "cell_type": "code",
   "execution_count": null,
   "metadata": {},
   "outputs": [],
   "source": [
    "# date\n",
    "print(interactions_train['date'].nunique())\n",
    "\n"
   ]
  },
  {
   "cell_type": "code",
   "execution_count": null,
   "metadata": {},
   "outputs": [],
   "source": [
    "# rating\n",
    "print(interactions_train['rating'].nunique())\n",
    "\n"
   ]
  },
  {
   "cell_type": "code",
   "execution_count": null,
   "metadata": {},
   "outputs": [],
   "source": [
    "# u\n",
    "print(interactions_train['u'].nunique())\n",
    "\n"
   ]
  },
  {
   "cell_type": "code",
   "execution_count": null,
   "metadata": {},
   "outputs": [],
   "source": [
    "# i\n",
    "print(interactions_train['i'].nunique())\n"
   ]
  },
  {
   "cell_type": "code",
   "execution_count": null,
   "metadata": {},
   "outputs": [],
   "source": []
  },
  {
   "cell_type": "code",
   "execution_count": null,
   "metadata": {},
   "outputs": [],
   "source": []
  },
  {
   "cell_type": "code",
   "execution_count": null,
   "metadata": {},
   "outputs": [],
   "source": []
  },
  {
   "cell_type": "code",
   "execution_count": null,
   "metadata": {},
   "outputs": [],
   "source": []
  },
  {
   "cell_type": "code",
   "execution_count": null,
   "metadata": {},
   "outputs": [],
   "source": [
    "# Drop some columns because no information (so make the ataframe lighter)\n",
    "data2 = data.drop(columns=['xxx','xxx'])\n",
    "# Check the dimensions of the new dataframe\n",
    "data2.shape"
   ]
  },
  {
   "cell_type": "code",
   "execution_count": null,
   "metadata": {},
   "outputs": [],
   "source": [
    "# Drop duplicate xxxx\n",
    "data3 = data2.drop_duplicates('xxx')\n",
    "# Check the dimensions of the new dataframe\n",
    "data3.shape"
   ]
  },
  {
   "cell_type": "code",
   "execution_count": null,
   "metadata": {},
   "outputs": [],
   "source": [
    "# Check the number of rows and columns dropped\n",
    "data.shape-data3.shape"
   ]
  },
  {
   "cell_type": "code",
   "execution_count": null,
   "metadata": {},
   "outputs": [],
   "source": [
    "# Look at missing values \n",
    "#drop rows with NaN price, points and description\n",
    "wine_df = wine_df.dropna(subset=['price', 'points', 'description'])\n",
    "#Also we will drop any empty values\n",
    "wine_df = wine_df.dropna()\n",
    "wine_df.shape"
   ]
  },
  {
   "cell_type": "code",
   "execution_count": null,
   "metadata": {},
   "outputs": [],
   "source": [
    "print(wine_df['description'].groupby(wine_df['taster_name']).count().sort_values(ascending = False))"
   ]
  },
  {
   "cell_type": "code",
   "execution_count": null,
   "metadata": {},
   "outputs": [],
   "source": []
  },
  {
   "cell_type": "code",
   "execution_count": null,
   "metadata": {},
   "outputs": [],
   "source": []
  },
  {
   "cell_type": "code",
   "execution_count": 63,
   "metadata": {},
   "outputs": [
    {
     "ename": "LookupError",
     "evalue": "\n**********************************************************************\n  Resource \u001b[93mpunkt\u001b[0m not found.\n  Please use the NLTK Downloader to obtain the resource:\n\n  \u001b[31m>>> import nltk\n  >>> nltk.download('punkt')\n  \u001b[0m\n  For more information see: https://www.nltk.org/data.html\n\n  Attempted to load \u001b[93mtokenizers/punkt/english.pickle\u001b[0m\n\n  Searched in:\n    - 'C:\\\\Users\\\\U597910/nltk_data'\n    - 'C:\\\\Users\\\\U597910\\\\AppData\\\\Local\\\\Continuum\\\\anaconda3\\\\nltk_data'\n    - 'C:\\\\Users\\\\U597910\\\\AppData\\\\Local\\\\Continuum\\\\anaconda3\\\\share\\\\nltk_data'\n    - 'C:\\\\Users\\\\U597910\\\\AppData\\\\Local\\\\Continuum\\\\anaconda3\\\\lib\\\\nltk_data'\n    - 'C:\\\\Users\\\\U597910\\\\AppData\\\\Roaming\\\\nltk_data'\n    - 'C:\\\\nltk_data'\n    - 'D:\\\\nltk_data'\n    - 'E:\\\\nltk_data'\n    - ''\n**********************************************************************\n",
     "output_type": "error",
     "traceback": [
      "\u001b[1;31m---------------------------------------------------------------------------\u001b[0m",
      "\u001b[1;31mLookupError\u001b[0m                               Traceback (most recent call last)",
      "\u001b[1;32m<ipython-input-63-77d13b0a2358>\u001b[0m in \u001b[0;36m<module>\u001b[1;34m\u001b[0m\n\u001b[0;32m     10\u001b[0m \u001b[1;32mfrom\u001b[0m \u001b[0mnltk\u001b[0m\u001b[1;33m.\u001b[0m\u001b[0mtokenize\u001b[0m \u001b[1;32mimport\u001b[0m \u001b[0mword_tokenize\u001b[0m\u001b[1;33m\u001b[0m\u001b[1;33m\u001b[0m\u001b[0m\n\u001b[0;32m     11\u001b[0m \u001b[1;31m# Passing the string text into word tokenize for breaking the sentences\u001b[0m\u001b[1;33m\u001b[0m\u001b[1;33m\u001b[0m\u001b[1;33m\u001b[0m\u001b[0m\n\u001b[1;32m---> 12\u001b[1;33m \u001b[0mtoken\u001b[0m \u001b[1;33m=\u001b[0m \u001b[0mword_tokenize\u001b[0m\u001b[1;33m(\u001b[0m\u001b[0mtext\u001b[0m\u001b[1;33m)\u001b[0m\u001b[1;33m\u001b[0m\u001b[1;33m\u001b[0m\u001b[0m\n\u001b[0m\u001b[0;32m     13\u001b[0m \u001b[0mtoken\u001b[0m\u001b[1;33m\u001b[0m\u001b[1;33m\u001b[0m\u001b[0m\n",
      "\u001b[1;32m~\\AppData\\Local\\Continuum\\anaconda3\\lib\\site-packages\\nltk\\tokenize\\__init__.py\u001b[0m in \u001b[0;36mword_tokenize\u001b[1;34m(text, language, preserve_line)\u001b[0m\n\u001b[0;32m    142\u001b[0m     \u001b[1;33m:\u001b[0m\u001b[0mtype\u001b[0m \u001b[0mpreserve_line\u001b[0m\u001b[1;33m:\u001b[0m \u001b[0mbool\u001b[0m\u001b[1;33m\u001b[0m\u001b[1;33m\u001b[0m\u001b[0m\n\u001b[0;32m    143\u001b[0m     \"\"\"\n\u001b[1;32m--> 144\u001b[1;33m     \u001b[0msentences\u001b[0m \u001b[1;33m=\u001b[0m \u001b[1;33m[\u001b[0m\u001b[0mtext\u001b[0m\u001b[1;33m]\u001b[0m \u001b[1;32mif\u001b[0m \u001b[0mpreserve_line\u001b[0m \u001b[1;32melse\u001b[0m \u001b[0msent_tokenize\u001b[0m\u001b[1;33m(\u001b[0m\u001b[0mtext\u001b[0m\u001b[1;33m,\u001b[0m \u001b[0mlanguage\u001b[0m\u001b[1;33m)\u001b[0m\u001b[1;33m\u001b[0m\u001b[1;33m\u001b[0m\u001b[0m\n\u001b[0m\u001b[0;32m    145\u001b[0m     return [\n\u001b[0;32m    146\u001b[0m         \u001b[0mtoken\u001b[0m \u001b[1;32mfor\u001b[0m \u001b[0msent\u001b[0m \u001b[1;32min\u001b[0m \u001b[0msentences\u001b[0m \u001b[1;32mfor\u001b[0m \u001b[0mtoken\u001b[0m \u001b[1;32min\u001b[0m \u001b[0m_treebank_word_tokenizer\u001b[0m\u001b[1;33m.\u001b[0m\u001b[0mtokenize\u001b[0m\u001b[1;33m(\u001b[0m\u001b[0msent\u001b[0m\u001b[1;33m)\u001b[0m\u001b[1;33m\u001b[0m\u001b[1;33m\u001b[0m\u001b[0m\n",
      "\u001b[1;32m~\\AppData\\Local\\Continuum\\anaconda3\\lib\\site-packages\\nltk\\tokenize\\__init__.py\u001b[0m in \u001b[0;36msent_tokenize\u001b[1;34m(text, language)\u001b[0m\n\u001b[0;32m    103\u001b[0m     \u001b[1;33m:\u001b[0m\u001b[0mparam\u001b[0m \u001b[0mlanguage\u001b[0m\u001b[1;33m:\u001b[0m \u001b[0mthe\u001b[0m \u001b[0mmodel\u001b[0m \u001b[0mname\u001b[0m \u001b[1;32min\u001b[0m \u001b[0mthe\u001b[0m \u001b[0mPunkt\u001b[0m \u001b[0mcorpus\u001b[0m\u001b[1;33m\u001b[0m\u001b[1;33m\u001b[0m\u001b[0m\n\u001b[0;32m    104\u001b[0m     \"\"\"\n\u001b[1;32m--> 105\u001b[1;33m     \u001b[0mtokenizer\u001b[0m \u001b[1;33m=\u001b[0m \u001b[0mload\u001b[0m\u001b[1;33m(\u001b[0m\u001b[1;34m'tokenizers/punkt/{0}.pickle'\u001b[0m\u001b[1;33m.\u001b[0m\u001b[0mformat\u001b[0m\u001b[1;33m(\u001b[0m\u001b[0mlanguage\u001b[0m\u001b[1;33m)\u001b[0m\u001b[1;33m)\u001b[0m\u001b[1;33m\u001b[0m\u001b[1;33m\u001b[0m\u001b[0m\n\u001b[0m\u001b[0;32m    106\u001b[0m     \u001b[1;32mreturn\u001b[0m \u001b[0mtokenizer\u001b[0m\u001b[1;33m.\u001b[0m\u001b[0mtokenize\u001b[0m\u001b[1;33m(\u001b[0m\u001b[0mtext\u001b[0m\u001b[1;33m)\u001b[0m\u001b[1;33m\u001b[0m\u001b[1;33m\u001b[0m\u001b[0m\n\u001b[0;32m    107\u001b[0m \u001b[1;33m\u001b[0m\u001b[0m\n",
      "\u001b[1;32m~\\AppData\\Local\\Continuum\\anaconda3\\lib\\site-packages\\nltk\\data.py\u001b[0m in \u001b[0;36mload\u001b[1;34m(resource_url, format, cache, verbose, logic_parser, fstruct_reader, encoding)\u001b[0m\n\u001b[0;32m    866\u001b[0m \u001b[1;33m\u001b[0m\u001b[0m\n\u001b[0;32m    867\u001b[0m     \u001b[1;31m# Load the resource.\u001b[0m\u001b[1;33m\u001b[0m\u001b[1;33m\u001b[0m\u001b[1;33m\u001b[0m\u001b[0m\n\u001b[1;32m--> 868\u001b[1;33m     \u001b[0mopened_resource\u001b[0m \u001b[1;33m=\u001b[0m \u001b[0m_open\u001b[0m\u001b[1;33m(\u001b[0m\u001b[0mresource_url\u001b[0m\u001b[1;33m)\u001b[0m\u001b[1;33m\u001b[0m\u001b[1;33m\u001b[0m\u001b[0m\n\u001b[0m\u001b[0;32m    869\u001b[0m \u001b[1;33m\u001b[0m\u001b[0m\n\u001b[0;32m    870\u001b[0m     \u001b[1;32mif\u001b[0m \u001b[0mformat\u001b[0m \u001b[1;33m==\u001b[0m \u001b[1;34m'raw'\u001b[0m\u001b[1;33m:\u001b[0m\u001b[1;33m\u001b[0m\u001b[1;33m\u001b[0m\u001b[0m\n",
      "\u001b[1;32m~\\AppData\\Local\\Continuum\\anaconda3\\lib\\site-packages\\nltk\\data.py\u001b[0m in \u001b[0;36m_open\u001b[1;34m(resource_url)\u001b[0m\n\u001b[0;32m    991\u001b[0m \u001b[1;33m\u001b[0m\u001b[0m\n\u001b[0;32m    992\u001b[0m     \u001b[1;32mif\u001b[0m \u001b[0mprotocol\u001b[0m \u001b[1;32mis\u001b[0m \u001b[1;32mNone\u001b[0m \u001b[1;32mor\u001b[0m \u001b[0mprotocol\u001b[0m\u001b[1;33m.\u001b[0m\u001b[0mlower\u001b[0m\u001b[1;33m(\u001b[0m\u001b[1;33m)\u001b[0m \u001b[1;33m==\u001b[0m \u001b[1;34m'nltk'\u001b[0m\u001b[1;33m:\u001b[0m\u001b[1;33m\u001b[0m\u001b[1;33m\u001b[0m\u001b[0m\n\u001b[1;32m--> 993\u001b[1;33m         \u001b[1;32mreturn\u001b[0m \u001b[0mfind\u001b[0m\u001b[1;33m(\u001b[0m\u001b[0mpath_\u001b[0m\u001b[1;33m,\u001b[0m \u001b[0mpath\u001b[0m \u001b[1;33m+\u001b[0m \u001b[1;33m[\u001b[0m\u001b[1;34m''\u001b[0m\u001b[1;33m]\u001b[0m\u001b[1;33m)\u001b[0m\u001b[1;33m.\u001b[0m\u001b[0mopen\u001b[0m\u001b[1;33m(\u001b[0m\u001b[1;33m)\u001b[0m\u001b[1;33m\u001b[0m\u001b[1;33m\u001b[0m\u001b[0m\n\u001b[0m\u001b[0;32m    994\u001b[0m     \u001b[1;32melif\u001b[0m \u001b[0mprotocol\u001b[0m\u001b[1;33m.\u001b[0m\u001b[0mlower\u001b[0m\u001b[1;33m(\u001b[0m\u001b[1;33m)\u001b[0m \u001b[1;33m==\u001b[0m \u001b[1;34m'file'\u001b[0m\u001b[1;33m:\u001b[0m\u001b[1;33m\u001b[0m\u001b[1;33m\u001b[0m\u001b[0m\n\u001b[0;32m    995\u001b[0m         \u001b[1;31m# urllib might not use mode='rb', so handle this one ourselves:\u001b[0m\u001b[1;33m\u001b[0m\u001b[1;33m\u001b[0m\u001b[1;33m\u001b[0m\u001b[0m\n",
      "\u001b[1;32m~\\AppData\\Local\\Continuum\\anaconda3\\lib\\site-packages\\nltk\\data.py\u001b[0m in \u001b[0;36mfind\u001b[1;34m(resource_name, paths)\u001b[0m\n\u001b[0;32m    699\u001b[0m     \u001b[0msep\u001b[0m \u001b[1;33m=\u001b[0m \u001b[1;34m'*'\u001b[0m \u001b[1;33m*\u001b[0m \u001b[1;36m70\u001b[0m\u001b[1;33m\u001b[0m\u001b[1;33m\u001b[0m\u001b[0m\n\u001b[0;32m    700\u001b[0m     \u001b[0mresource_not_found\u001b[0m \u001b[1;33m=\u001b[0m \u001b[1;34m'\\n%s\\n%s\\n%s\\n'\u001b[0m \u001b[1;33m%\u001b[0m \u001b[1;33m(\u001b[0m\u001b[0msep\u001b[0m\u001b[1;33m,\u001b[0m \u001b[0mmsg\u001b[0m\u001b[1;33m,\u001b[0m \u001b[0msep\u001b[0m\u001b[1;33m)\u001b[0m\u001b[1;33m\u001b[0m\u001b[1;33m\u001b[0m\u001b[0m\n\u001b[1;32m--> 701\u001b[1;33m     \u001b[1;32mraise\u001b[0m \u001b[0mLookupError\u001b[0m\u001b[1;33m(\u001b[0m\u001b[0mresource_not_found\u001b[0m\u001b[1;33m)\u001b[0m\u001b[1;33m\u001b[0m\u001b[1;33m\u001b[0m\u001b[0m\n\u001b[0m\u001b[0;32m    702\u001b[0m \u001b[1;33m\u001b[0m\u001b[0m\n\u001b[0;32m    703\u001b[0m \u001b[1;33m\u001b[0m\u001b[0m\n",
      "\u001b[1;31mLookupError\u001b[0m: \n**********************************************************************\n  Resource \u001b[93mpunkt\u001b[0m not found.\n  Please use the NLTK Downloader to obtain the resource:\n\n  \u001b[31m>>> import nltk\n  >>> nltk.download('punkt')\n  \u001b[0m\n  For more information see: https://www.nltk.org/data.html\n\n  Attempted to load \u001b[93mtokenizers/punkt/english.pickle\u001b[0m\n\n  Searched in:\n    - 'C:\\\\Users\\\\U597910/nltk_data'\n    - 'C:\\\\Users\\\\U597910\\\\AppData\\\\Local\\\\Continuum\\\\anaconda3\\\\nltk_data'\n    - 'C:\\\\Users\\\\U597910\\\\AppData\\\\Local\\\\Continuum\\\\anaconda3\\\\share\\\\nltk_data'\n    - 'C:\\\\Users\\\\U597910\\\\AppData\\\\Local\\\\Continuum\\\\anaconda3\\\\lib\\\\nltk_data'\n    - 'C:\\\\Users\\\\U597910\\\\AppData\\\\Roaming\\\\nltk_data'\n    - 'C:\\\\nltk_data'\n    - 'D:\\\\nltk_data'\n    - 'E:\\\\nltk_data'\n    - ''\n**********************************************************************\n"
     ]
    }
   ],
   "source": [
    "# Importing necessary library\n",
    "import pandas as pd\n",
    "import numpy as np\n",
    "import nltk\n",
    "import os\n",
    "import nltk.corpus\n",
    "# sample text for performing tokenization\n",
    "text = 'In Brazil they drive on the right-hand side of the road. Brazil has a large coastline on the eastern side of South America'\n",
    "# importing word_tokenize from nltk\n",
    "from nltk.tokenize import word_tokenize\n",
    "# Passing the string text into word tokenize for breaking the sentences\n",
    "token = word_tokenize(text)\n",
    "token"
   ]
  },
  {
   "cell_type": "markdown",
   "metadata": {},
   "source": [
    "### PART 2: "
   ]
  },
  {
   "cell_type": "markdown",
   "metadata": {},
   "source": [
    "### PART 3 : "
   ]
  },
  {
   "cell_type": "markdown",
   "metadata": {},
   "source": [
    "### PART 4 : "
   ]
  }
 ],
 "metadata": {
  "kernelspec": {
   "display_name": "Python 3",
   "language": "python",
   "name": "python3"
  },
  "language_info": {
   "codemirror_mode": {
    "name": "ipython",
    "version": 3
   },
   "file_extension": ".py",
   "mimetype": "text/x-python",
   "name": "python",
   "nbconvert_exporter": "python",
   "pygments_lexer": "ipython3",
   "version": "3.7.4"
  }
 },
 "nbformat": 4,
 "nbformat_minor": 2
}
